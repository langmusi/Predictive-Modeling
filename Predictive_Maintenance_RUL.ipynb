{
  "nbformat": 4,
  "nbformat_minor": 0,
  "metadata": {
    "colab": {
      "name": "Predictive Maintenance RUL.ipynb",
      "provenance": [],
      "authorship_tag": "ABX9TyPWl0HaTxqRxuLO2KEf9Vhx"
    },
    "kernelspec": {
      "name": "python3",
      "display_name": "Python 3"
    }
  },
  "cells": [
    {
      "cell_type": "markdown",
      "metadata": {
        "id": "5DvjjohofnCD"
      },
      "source": [
        "# Aircraft Engine Lifetime Prediction with Machine Learning\n",
        "\n",
        "from https://github.com/luqmanbuang/Aircraft-Engine-Lifetime-Prediction-with-Machine-Learning"
      ]
    },
    {
      "cell_type": "code",
      "metadata": {
        "id": "yH5hS1B2fibe"
      },
      "source": [
        "import pandas as pd\n",
        "\n",
        "from IPython.core.interactiveshell import InteractiveShell\n",
        "InteractiveShell.ast_node_interactivity = \"all\"\n"
      ],
      "execution_count": null,
      "outputs": []
    },
    {
      "cell_type": "code",
      "metadata": {
        "id": "p2FXAaNLsNux"
      },
      "source": [
        "df = pd.read_csv(\"./wheelAnalysis_modelTest_dataset.csv\", dtype=object,\n",
        "                 encoding=\"ISO-8859-1\")\n",
        "df.head()"
      ],
      "execution_count": null,
      "outputs": []
    },
    {
      "cell_type": "code",
      "metadata": {
        "id": "Tj7QjCzAuiyi"
      },
      "source": [
        "df.columns.tolist()"
      ],
      "execution_count": null,
      "outputs": []
    },
    {
      "cell_type": "code",
      "metadata": {
        "id": "f7hNeqXvutjK"
      },
      "source": [
        "drop_col = ['ComponentLocation', 'VehicleOperatorName', 'VehicleMaintenanceName', 'ComponentSerialNumber', \n",
        "            'TurningCode', 'ComponentDescription', 'ComponentID', 'ActionDepot', 'VehicleNumber']\n",
        "df.drop(drop_col, axis=1, inplace=True)\n"
      ],
      "execution_count": null,
      "outputs": []
    },
    {
      "cell_type": "code",
      "metadata": {
        "id": "SmCGMH5Iv1IS"
      },
      "source": [
        "df.columns.tolist()\n",
        "df.head()\n",
        "df.shape"
      ],
      "execution_count": null,
      "outputs": []
    },
    {
      "cell_type": "code",
      "metadata": {
        "id": "n3gyzeZM2-YB"
      },
      "source": [
        "df.rename(columns={\"TrainsetVehicleNumber\": \"a\", \"ComponentUniqueID\": \"b\", \"Littera\": \"c\"}, inplace=True)"
      ],
      "execution_count": null,
      "outputs": []
    },
    {
      "cell_type": "code",
      "metadata": {
        "id": "rQBiiN2K4k6S"
      },
      "source": [
        "df.columns.tolist()"
      ],
      "execution_count": null,
      "outputs": []
    },
    {
      "cell_type": "code",
      "metadata": {
        "id": "aA3MnjfR3niy"
      },
      "source": [
        "df.sort_values(['b', 'ActionDate'], ascending=[True, True], inplace=True)\n",
        "df.head()"
      ],
      "execution_count": null,
      "outputs": []
    },
    {
      "cell_type": "code",
      "metadata": {
        "id": "hKpsGzrn8NrM"
      },
      "source": [
        "df['OMS'] = df['ActionCode']"
      ],
      "execution_count": null,
      "outputs": []
    },
    {
      "cell_type": "code",
      "metadata": {
        "id": "Sufx-Gyu919Y"
      },
      "source": [
        "df['ActionCode'].value_counts()"
      ],
      "execution_count": null,
      "outputs": []
    },
    {
      "cell_type": "code",
      "metadata": {
        "id": "aELilwfz6eIb"
      },
      "source": [
        "#df.loc[df['OMS'] != 'OMS'] = int(0)\n",
        "df.loc[df['OMS'] == 'OMS'] = int(1)\n",
        "df['OMS'].value_counts()"
      ],
      "execution_count": null,
      "outputs": []
    },
    {
      "cell_type": "code",
      "metadata": {
        "id": "Ndrgac575qE-"
      },
      "source": [
        "df['Seq'] = df.groupby(['b','ActionCode']).cumcount().add(1)\n",
        "df.head(10)"
      ],
      "execution_count": null,
      "outputs": []
    }
  ]
}