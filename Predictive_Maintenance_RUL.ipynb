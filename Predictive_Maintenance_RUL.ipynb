{
  "nbformat": 4,
  "nbformat_minor": 0,
  "metadata": {
    "colab": {
      "name": "Predictive Maintenance RUL.ipynb",
      "provenance": [],
      "authorship_tag": "ABX9TyPWl0HaTxqRxuLO2KEf9Vhx"
    },
    "kernelspec": {
      "name": "python3",
      "display_name": "Python 3"
    }
  },
  "cells": [
    {
      "cell_type": "markdown",
      "metadata": {
        "id": "5DvjjohofnCD"
      },
      "source": [
        "# Aircraft Engine Lifetime Prediction with Machine Learning\n",
        "\n",
        "from https://github.com/luqmanbuang/Aircraft-Engine-Lifetime-Prediction-with-Machine-Learning"
      ]
    },
    {
      "cell_type": "code",
      "metadata": {
        "id": "yH5hS1B2fibe"
      },
      "source": [
        "import pandas as pd\n",
        "\n",
        "from IPython.core.interactiveshell import InteractiveShell\n",
        "InteractiveShell.ast_node_interactivity = \"all\"\n"
      ],
      "execution_count": null,
      "outputs": []
    },
    {
      "cell_type": "code",
      "metadata": {
        "colab": {
          "base_uri": "https://localhost:8080/",
          "height": 309
        },
        "id": "p2FXAaNLsNux",
        "outputId": "48c44ca5-8234-40bf-e9bb-7047ea985154"
      },
      "source": [
        "df = pd.read_csv(\"./wheelAnalysis_modelTest_dataset.csv\", dtype=object,\n",
        "                 encoding=\"ISO-8859-1\")\n",
        "df.head()"
      ],
      "execution_count": null,
      "outputs": [
        {
          "output_type": "execute_result",
          "data": {
            "text/html": [
              "<div>\n",
              "<style scoped>\n",
              "    .dataframe tbody tr th:only-of-type {\n",
              "        vertical-align: middle;\n",
              "    }\n",
              "\n",
              "    .dataframe tbody tr th {\n",
              "        vertical-align: top;\n",
              "    }\n",
              "\n",
              "    .dataframe thead th {\n",
              "        text-align: right;\n",
              "    }\n",
              "</style>\n",
              "<table border=\"1\" class=\"dataframe\">\n",
              "  <thead>\n",
              "    <tr style=\"text-align: right;\">\n",
              "      <th></th>\n",
              "      <th>TrainsetVehicleNumber</th>\n",
              "      <th>VehicleNumber</th>\n",
              "      <th>ComponentID</th>\n",
              "      <th>ComponentUniqueID</th>\n",
              "      <th>ComponentLocation</th>\n",
              "      <th>VehicleOperatorName</th>\n",
              "      <th>VehicleMaintenanceName</th>\n",
              "      <th>maxActionDate</th>\n",
              "      <th>maxTotalPerformanceSnapshot</th>\n",
              "      <th>ActionCode</th>\n",
              "      <th>ActionDate</th>\n",
              "      <th>ActionDepot</th>\n",
              "      <th>ComponentSerialNumber</th>\n",
              "      <th>TotalPerformanceSnapshot</th>\n",
              "      <th>TurningCode</th>\n",
              "      <th>LeftWheelDiameter</th>\n",
              "      <th>ComponentDescription</th>\n",
              "      <th>Littera</th>\n",
              "    </tr>\n",
              "  </thead>\n",
              "  <tbody>\n",
              "    <tr>\n",
              "      <th>0</th>\n",
              "      <td>X3147</td>\n",
              "      <td>X3147</td>\n",
              "      <td>1118120</td>\n",
              "      <td>0000908</td>\n",
              "      <td>03</td>\n",
              "      <td>SJAB GÖTALANDSTRAFIKEN</td>\n",
              "      <td>ALSTOM MOTORVAGNSHALL GBG</td>\n",
              "      <td>2020-06-23</td>\n",
              "      <td>4489523</td>\n",
              "      <td>OMS</td>\n",
              "      <td>2007-10-01</td>\n",
              "      <td>TÖR</td>\n",
              "      <td>194326</td>\n",
              "      <td>3354724</td>\n",
              "      <td>000</td>\n",
              "      <td>920</td>\n",
              "      <td>DRIVHJULPAR TILL X11 TOM NR 3186 SAMT 3189</td>\n",
              "      <td>X11-14</td>\n",
              "    </tr>\n",
              "    <tr>\n",
              "      <th>1</th>\n",
              "      <td>X3147</td>\n",
              "      <td>X3147</td>\n",
              "      <td>1118120</td>\n",
              "      <td>0000908</td>\n",
              "      <td>03</td>\n",
              "      <td>SJAB GÖTALANDSTRAFIKEN</td>\n",
              "      <td>ALSTOM MOTORVAGNSHALL GBG</td>\n",
              "      <td>2020-06-23</td>\n",
              "      <td>4489523</td>\n",
              "      <td>HJ</td>\n",
              "      <td>2006-04-04</td>\n",
              "      <td>LM</td>\n",
              "      <td>194326</td>\n",
              "      <td>3191844</td>\n",
              "      <td>84</td>\n",
              "      <td>864.3</td>\n",
              "      <td>DRIVHJULPAR TILL X11 TOM NR 3186 SAMT 3189</td>\n",
              "      <td>X11-14</td>\n",
              "    </tr>\n",
              "    <tr>\n",
              "      <th>2</th>\n",
              "      <td>X3147</td>\n",
              "      <td>X3147</td>\n",
              "      <td>1118120</td>\n",
              "      <td>0000908</td>\n",
              "      <td>03</td>\n",
              "      <td>SJAB GÖTALANDSTRAFIKEN</td>\n",
              "      <td>ALSTOM MOTORVAGNSHALL GBG</td>\n",
              "      <td>2020-06-23</td>\n",
              "      <td>4489523</td>\n",
              "      <td>HJ</td>\n",
              "      <td>2005-04-08</td>\n",
              "      <td>LM</td>\n",
              "      <td>194326</td>\n",
              "      <td>3019019</td>\n",
              "      <td>84</td>\n",
              "      <td>879.8</td>\n",
              "      <td>DRIVHJULPAR TILL X11 TOM NR 3186 SAMT 3189</td>\n",
              "      <td>X11-14</td>\n",
              "    </tr>\n",
              "    <tr>\n",
              "      <th>3</th>\n",
              "      <td>X3147</td>\n",
              "      <td>X3147</td>\n",
              "      <td>1118120</td>\n",
              "      <td>0000908</td>\n",
              "      <td>03</td>\n",
              "      <td>SJAB GÖTALANDSTRAFIKEN</td>\n",
              "      <td>ALSTOM MOTORVAGNSHALL GBG</td>\n",
              "      <td>2020-06-23</td>\n",
              "      <td>4489523</td>\n",
              "      <td>HJ</td>\n",
              "      <td>2009-02-09</td>\n",
              "      <td>LM</td>\n",
              "      <td>194326</td>\n",
              "      <td>3624157</td>\n",
              "      <td>81</td>\n",
              "      <td>910.4</td>\n",
              "      <td>DRIVHJULPAR TILL X11 TOM NR 3186 SAMT 3189</td>\n",
              "      <td>X11-14</td>\n",
              "    </tr>\n",
              "    <tr>\n",
              "      <th>4</th>\n",
              "      <td>X3147</td>\n",
              "      <td>X3147</td>\n",
              "      <td>1118120</td>\n",
              "      <td>0000908</td>\n",
              "      <td>03</td>\n",
              "      <td>SJAB GÖTALANDSTRAFIKEN</td>\n",
              "      <td>ALSTOM MOTORVAGNSHALL GBG</td>\n",
              "      <td>2020-06-23</td>\n",
              "      <td>4489523</td>\n",
              "      <td>HJ</td>\n",
              "      <td>2010-10-22</td>\n",
              "      <td>LM</td>\n",
              "      <td>194326</td>\n",
              "      <td>3943201</td>\n",
              "      <td>83</td>\n",
              "      <td>898.8</td>\n",
              "      <td>DRIVHJULPAR TILL X11 TOM NR 3186 SAMT 3189</td>\n",
              "      <td>X11-14</td>\n",
              "    </tr>\n",
              "  </tbody>\n",
              "</table>\n",
              "</div>"
            ],
            "text/plain": [
              "  TrainsetVehicleNumber  ... Littera\n",
              "0                 X3147  ...  X11-14\n",
              "1                 X3147  ...  X11-14\n",
              "2                 X3147  ...  X11-14\n",
              "3                 X3147  ...  X11-14\n",
              "4                 X3147  ...  X11-14\n",
              "\n",
              "[5 rows x 18 columns]"
            ]
          },
          "metadata": {
            "tags": []
          },
          "execution_count": 40
        }
      ]
    },
    {
      "cell_type": "code",
      "metadata": {
        "colab": {
          "base_uri": "https://localhost:8080/"
        },
        "id": "Tj7QjCzAuiyi",
        "outputId": "e6016182-c3ac-417a-8bd6-3af5d55fd253"
      },
      "source": [
        "df.columns.tolist()"
      ],
      "execution_count": null,
      "outputs": [
        {
          "output_type": "execute_result",
          "data": {
            "text/plain": [
              "['TrainsetVehicleNumber',\n",
              " 'VehicleNumber',\n",
              " 'ComponentID',\n",
              " 'ComponentUniqueID',\n",
              " 'ComponentLocation',\n",
              " 'VehicleOperatorName',\n",
              " 'VehicleMaintenanceName',\n",
              " 'maxActionDate',\n",
              " 'maxTotalPerformanceSnapshot',\n",
              " 'ActionCode',\n",
              " 'ActionDate',\n",
              " 'ActionDepot',\n",
              " 'ComponentSerialNumber',\n",
              " 'TotalPerformanceSnapshot',\n",
              " 'TurningCode',\n",
              " 'LeftWheelDiameter',\n",
              " 'ComponentDescription',\n",
              " 'Littera']"
            ]
          },
          "metadata": {
            "tags": []
          },
          "execution_count": 36
        }
      ]
    },
    {
      "cell_type": "code",
      "metadata": {
        "id": "f7hNeqXvutjK"
      },
      "source": [
        "drop_col = ['ComponentLocation', 'VehicleOperatorName', 'VehicleMaintenanceName', 'ComponentSerialNumber', \n",
        "            'TurningCode', 'ComponentDescription', 'ComponentID', 'ActionDepot', 'VehicleNumber']\n",
        "df.drop(drop_col, axis=1, inplace=True)\n"
      ],
      "execution_count": null,
      "outputs": []
    },
    {
      "cell_type": "code",
      "metadata": {
        "colab": {
          "base_uri": "https://localhost:8080/",
          "height": 411
        },
        "id": "SmCGMH5Iv1IS",
        "outputId": "9a87ec1e-4497-4daa-80f7-426fe6ad729e"
      },
      "source": [
        "df.columns.tolist()\n",
        "df.head()\n",
        "df.shape"
      ],
      "execution_count": null,
      "outputs": [
        {
          "output_type": "execute_result",
          "data": {
            "text/plain": [
              "['TrainsetVehicleNumber',\n",
              " 'VehicleNumber',\n",
              " 'ComponentUniqueID',\n",
              " 'maxActionDate',\n",
              " 'maxTotalPerformanceSnapshot',\n",
              " 'ActionCode',\n",
              " 'ActionDate',\n",
              " 'TotalPerformanceSnapshot',\n",
              " 'LeftWheelDiameter',\n",
              " 'Littera']"
            ]
          },
          "metadata": {
            "tags": []
          },
          "execution_count": 42
        },
        {
          "output_type": "execute_result",
          "data": {
            "text/html": [
              "<div>\n",
              "<style scoped>\n",
              "    .dataframe tbody tr th:only-of-type {\n",
              "        vertical-align: middle;\n",
              "    }\n",
              "\n",
              "    .dataframe tbody tr th {\n",
              "        vertical-align: top;\n",
              "    }\n",
              "\n",
              "    .dataframe thead th {\n",
              "        text-align: right;\n",
              "    }\n",
              "</style>\n",
              "<table border=\"1\" class=\"dataframe\">\n",
              "  <thead>\n",
              "    <tr style=\"text-align: right;\">\n",
              "      <th></th>\n",
              "      <th>TrainsetVehicleNumber</th>\n",
              "      <th>VehicleNumber</th>\n",
              "      <th>ComponentUniqueID</th>\n",
              "      <th>maxActionDate</th>\n",
              "      <th>maxTotalPerformanceSnapshot</th>\n",
              "      <th>ActionCode</th>\n",
              "      <th>ActionDate</th>\n",
              "      <th>TotalPerformanceSnapshot</th>\n",
              "      <th>LeftWheelDiameter</th>\n",
              "      <th>Littera</th>\n",
              "    </tr>\n",
              "  </thead>\n",
              "  <tbody>\n",
              "    <tr>\n",
              "      <th>0</th>\n",
              "      <td>X3147</td>\n",
              "      <td>X3147</td>\n",
              "      <td>0000908</td>\n",
              "      <td>2020-06-23</td>\n",
              "      <td>4489523</td>\n",
              "      <td>OMS</td>\n",
              "      <td>2007-10-01</td>\n",
              "      <td>3354724</td>\n",
              "      <td>920</td>\n",
              "      <td>X11-14</td>\n",
              "    </tr>\n",
              "    <tr>\n",
              "      <th>1</th>\n",
              "      <td>X3147</td>\n",
              "      <td>X3147</td>\n",
              "      <td>0000908</td>\n",
              "      <td>2020-06-23</td>\n",
              "      <td>4489523</td>\n",
              "      <td>HJ</td>\n",
              "      <td>2006-04-04</td>\n",
              "      <td>3191844</td>\n",
              "      <td>864.3</td>\n",
              "      <td>X11-14</td>\n",
              "    </tr>\n",
              "    <tr>\n",
              "      <th>2</th>\n",
              "      <td>X3147</td>\n",
              "      <td>X3147</td>\n",
              "      <td>0000908</td>\n",
              "      <td>2020-06-23</td>\n",
              "      <td>4489523</td>\n",
              "      <td>HJ</td>\n",
              "      <td>2005-04-08</td>\n",
              "      <td>3019019</td>\n",
              "      <td>879.8</td>\n",
              "      <td>X11-14</td>\n",
              "    </tr>\n",
              "    <tr>\n",
              "      <th>3</th>\n",
              "      <td>X3147</td>\n",
              "      <td>X3147</td>\n",
              "      <td>0000908</td>\n",
              "      <td>2020-06-23</td>\n",
              "      <td>4489523</td>\n",
              "      <td>HJ</td>\n",
              "      <td>2009-02-09</td>\n",
              "      <td>3624157</td>\n",
              "      <td>910.4</td>\n",
              "      <td>X11-14</td>\n",
              "    </tr>\n",
              "    <tr>\n",
              "      <th>4</th>\n",
              "      <td>X3147</td>\n",
              "      <td>X3147</td>\n",
              "      <td>0000908</td>\n",
              "      <td>2020-06-23</td>\n",
              "      <td>4489523</td>\n",
              "      <td>HJ</td>\n",
              "      <td>2010-10-22</td>\n",
              "      <td>3943201</td>\n",
              "      <td>898.8</td>\n",
              "      <td>X11-14</td>\n",
              "    </tr>\n",
              "  </tbody>\n",
              "</table>\n",
              "</div>"
            ],
            "text/plain": [
              "  TrainsetVehicleNumber VehicleNumber  ... LeftWheelDiameter Littera\n",
              "0                 X3147         X3147  ...               920  X11-14\n",
              "1                 X3147         X3147  ...             864.3  X11-14\n",
              "2                 X3147         X3147  ...             879.8  X11-14\n",
              "3                 X3147         X3147  ...             910.4  X11-14\n",
              "4                 X3147         X3147  ...             898.8  X11-14\n",
              "\n",
              "[5 rows x 10 columns]"
            ]
          },
          "metadata": {
            "tags": []
          },
          "execution_count": 42
        },
        {
          "output_type": "execute_result",
          "data": {
            "text/plain": [
              "(22018, 10)"
            ]
          },
          "metadata": {
            "tags": []
          },
          "execution_count": 42
        }
      ]
    },
    {
      "cell_type": "code",
      "metadata": {
        "id": "n3gyzeZM2-YB"
      },
      "source": [
        "df.rename(columns={\"TrainsetVehicleNumber\": \"a\", \"ComponentUniqueID\": \"b\", \"Littera\": \"c\"}, inplace=True)"
      ],
      "execution_count": null,
      "outputs": []
    },
    {
      "cell_type": "code",
      "metadata": {
        "colab": {
          "base_uri": "https://localhost:8080/"
        },
        "id": "rQBiiN2K4k6S",
        "outputId": "12d5ae02-2eda-4bf2-ab73-44304447670f"
      },
      "source": [
        "df.columns.tolist()"
      ],
      "execution_count": null,
      "outputs": [
        {
          "output_type": "execute_result",
          "data": {
            "text/plain": [
              "['a',\n",
              " 'VehicleNumber',\n",
              " 'b',\n",
              " 'maxActionDate',\n",
              " 'maxTotalPerformanceSnapshot',\n",
              " 'ActionCode',\n",
              " 'ActionDate',\n",
              " 'TotalPerformanceSnapshot',\n",
              " 'LeftWheelDiameter',\n",
              " 'c']"
            ]
          },
          "metadata": {
            "tags": []
          },
          "execution_count": 49
        }
      ]
    },
    {
      "cell_type": "code",
      "metadata": {
        "colab": {
          "base_uri": "https://localhost:8080/",
          "height": 204
        },
        "id": "aA3MnjfR3niy",
        "outputId": "691f5d70-93d3-4072-a721-6c1b3ede4c2c"
      },
      "source": [
        "df.sort_values(['b', 'ActionDate'], ascending=[True, True], inplace=True)\n",
        "df.head()"
      ],
      "execution_count": null,
      "outputs": [
        {
          "output_type": "execute_result",
          "data": {
            "text/html": [
              "<div>\n",
              "<style scoped>\n",
              "    .dataframe tbody tr th:only-of-type {\n",
              "        vertical-align: middle;\n",
              "    }\n",
              "\n",
              "    .dataframe tbody tr th {\n",
              "        vertical-align: top;\n",
              "    }\n",
              "\n",
              "    .dataframe thead th {\n",
              "        text-align: right;\n",
              "    }\n",
              "</style>\n",
              "<table border=\"1\" class=\"dataframe\">\n",
              "  <thead>\n",
              "    <tr style=\"text-align: right;\">\n",
              "      <th></th>\n",
              "      <th>a</th>\n",
              "      <th>VehicleNumber</th>\n",
              "      <th>b</th>\n",
              "      <th>maxActionDate</th>\n",
              "      <th>maxTotalPerformanceSnapshot</th>\n",
              "      <th>ActionCode</th>\n",
              "      <th>ActionDate</th>\n",
              "      <th>TotalPerformanceSnapshot</th>\n",
              "      <th>LeftWheelDiameter</th>\n",
              "      <th>c</th>\n",
              "    </tr>\n",
              "  </thead>\n",
              "  <tbody>\n",
              "    <tr>\n",
              "      <th>24</th>\n",
              "      <td>X3106</td>\n",
              "      <td>X3106</td>\n",
              "      <td>0000905</td>\n",
              "      <td>2020-10-21</td>\n",
              "      <td>4139099</td>\n",
              "      <td>OMS</td>\n",
              "      <td>2006-08-17</td>\n",
              "      <td>2956646</td>\n",
              "      <td>918</td>\n",
              "      <td>X11-14</td>\n",
              "    </tr>\n",
              "    <tr>\n",
              "      <th>27</th>\n",
              "      <td>X3106</td>\n",
              "      <td>X3106</td>\n",
              "      <td>0000905</td>\n",
              "      <td>2020-10-21</td>\n",
              "      <td>4139099</td>\n",
              "      <td>HJ</td>\n",
              "      <td>2008-10-29</td>\n",
              "      <td>3245016</td>\n",
              "      <td>903.5</td>\n",
              "      <td>X11-14</td>\n",
              "    </tr>\n",
              "    <tr>\n",
              "      <th>25</th>\n",
              "      <td>X3106</td>\n",
              "      <td>X3106</td>\n",
              "      <td>0000905</td>\n",
              "      <td>2020-10-21</td>\n",
              "      <td>4139099</td>\n",
              "      <td>SVA</td>\n",
              "      <td>2016-02-29</td>\n",
              "      <td>3826532</td>\n",
              "      <td>878</td>\n",
              "      <td>X11-14</td>\n",
              "    </tr>\n",
              "    <tr>\n",
              "      <th>28</th>\n",
              "      <td>X3106</td>\n",
              "      <td>X3106</td>\n",
              "      <td>0000905</td>\n",
              "      <td>2020-10-21</td>\n",
              "      <td>4139099</td>\n",
              "      <td>OMS</td>\n",
              "      <td>2018-10-15</td>\n",
              "      <td>4022901</td>\n",
              "      <td>920</td>\n",
              "      <td>X11-14</td>\n",
              "    </tr>\n",
              "    <tr>\n",
              "      <th>26</th>\n",
              "      <td>X3106</td>\n",
              "      <td>X3106</td>\n",
              "      <td>0000905</td>\n",
              "      <td>2020-10-21</td>\n",
              "      <td>4139099</td>\n",
              "      <td>HJ</td>\n",
              "      <td>2019-03-26</td>\n",
              "      <td>4070050</td>\n",
              "      <td>914.9</td>\n",
              "      <td>X11-14</td>\n",
              "    </tr>\n",
              "  </tbody>\n",
              "</table>\n",
              "</div>"
            ],
            "text/plain": [
              "        a VehicleNumber  ... LeftWheelDiameter       c\n",
              "24  X3106         X3106  ...               918  X11-14\n",
              "27  X3106         X3106  ...             903.5  X11-14\n",
              "25  X3106         X3106  ...               878  X11-14\n",
              "28  X3106         X3106  ...               920  X11-14\n",
              "26  X3106         X3106  ...             914.9  X11-14\n",
              "\n",
              "[5 rows x 10 columns]"
            ]
          },
          "metadata": {
            "tags": []
          },
          "execution_count": 50
        }
      ]
    },
    {
      "cell_type": "code",
      "metadata": {
        "id": "hKpsGzrn8NrM"
      },
      "source": [
        "df['OMS'] = df['ActionCode']"
      ],
      "execution_count": null,
      "outputs": []
    },
    {
      "cell_type": "code",
      "metadata": {
        "colab": {
          "base_uri": "https://localhost:8080/"
        },
        "id": "Sufx-Gyu919Y",
        "outputId": "47041b96-2ba9-4f12-974a-a06347a9feda"
      },
      "source": [
        "df['ActionCode'].value_counts()"
      ],
      "execution_count": null,
      "outputs": [
        {
          "output_type": "execute_result",
          "data": {
            "text/plain": [
              "0    22018\n",
              "Name: ActionCode, dtype: int64"
            ]
          },
          "metadata": {
            "tags": []
          },
          "execution_count": 75
        }
      ]
    },
    {
      "cell_type": "code",
      "metadata": {
        "colab": {
          "base_uri": "https://localhost:8080/"
        },
        "id": "aELilwfz6eIb",
        "outputId": "432e2973-2d73-4c59-e11f-369e5326dcae"
      },
      "source": [
        "#df.loc[df['OMS'] != 'OMS'] = int(0)\n",
        "df.loc[df['OMS'] == 'OMS'] = int(1)\n",
        "df['OMS'].value_counts()"
      ],
      "execution_count": null,
      "outputs": [
        {
          "output_type": "execute_result",
          "data": {
            "text/plain": [
              "0    22018\n",
              "Name: OMS, dtype: int64"
            ]
          },
          "metadata": {
            "tags": []
          },
          "execution_count": 71
        }
      ]
    },
    {
      "cell_type": "code",
      "metadata": {
        "colab": {
          "base_uri": "https://localhost:8080/",
          "height": 359
        },
        "id": "Ndrgac575qE-",
        "outputId": "387c612a-c90c-4c04-9e82-9a3a84671af0"
      },
      "source": [
        "df['Seq'] = df.groupby(['b','ActionCode']).cumcount().add(1)\n",
        "df.head(10)"
      ],
      "execution_count": null,
      "outputs": [
        {
          "output_type": "execute_result",
          "data": {
            "text/html": [
              "<div>\n",
              "<style scoped>\n",
              "    .dataframe tbody tr th:only-of-type {\n",
              "        vertical-align: middle;\n",
              "    }\n",
              "\n",
              "    .dataframe tbody tr th {\n",
              "        vertical-align: top;\n",
              "    }\n",
              "\n",
              "    .dataframe thead th {\n",
              "        text-align: right;\n",
              "    }\n",
              "</style>\n",
              "<table border=\"1\" class=\"dataframe\">\n",
              "  <thead>\n",
              "    <tr style=\"text-align: right;\">\n",
              "      <th></th>\n",
              "      <th>a</th>\n",
              "      <th>VehicleNumber</th>\n",
              "      <th>b</th>\n",
              "      <th>maxActionDate</th>\n",
              "      <th>maxTotalPerformanceSnapshot</th>\n",
              "      <th>ActionCode</th>\n",
              "      <th>ActionDate</th>\n",
              "      <th>TotalPerformanceSnapshot</th>\n",
              "      <th>LeftWheelDiameter</th>\n",
              "      <th>c</th>\n",
              "      <th>Seq</th>\n",
              "    </tr>\n",
              "  </thead>\n",
              "  <tbody>\n",
              "    <tr>\n",
              "      <th>24</th>\n",
              "      <td>X3106</td>\n",
              "      <td>X3106</td>\n",
              "      <td>0000905</td>\n",
              "      <td>2020-10-21</td>\n",
              "      <td>4139099</td>\n",
              "      <td>OMS</td>\n",
              "      <td>2006-08-17</td>\n",
              "      <td>2956646</td>\n",
              "      <td>918</td>\n",
              "      <td>X11-14</td>\n",
              "      <td>1</td>\n",
              "    </tr>\n",
              "    <tr>\n",
              "      <th>27</th>\n",
              "      <td>X3106</td>\n",
              "      <td>X3106</td>\n",
              "      <td>0000905</td>\n",
              "      <td>2020-10-21</td>\n",
              "      <td>4139099</td>\n",
              "      <td>HJ</td>\n",
              "      <td>2008-10-29</td>\n",
              "      <td>3245016</td>\n",
              "      <td>903.5</td>\n",
              "      <td>X11-14</td>\n",
              "      <td>1</td>\n",
              "    </tr>\n",
              "    <tr>\n",
              "      <th>25</th>\n",
              "      <td>X3106</td>\n",
              "      <td>X3106</td>\n",
              "      <td>0000905</td>\n",
              "      <td>2020-10-21</td>\n",
              "      <td>4139099</td>\n",
              "      <td>SVA</td>\n",
              "      <td>2016-02-29</td>\n",
              "      <td>3826532</td>\n",
              "      <td>878</td>\n",
              "      <td>X11-14</td>\n",
              "      <td>1</td>\n",
              "    </tr>\n",
              "    <tr>\n",
              "      <th>28</th>\n",
              "      <td>X3106</td>\n",
              "      <td>X3106</td>\n",
              "      <td>0000905</td>\n",
              "      <td>2020-10-21</td>\n",
              "      <td>4139099</td>\n",
              "      <td>OMS</td>\n",
              "      <td>2018-10-15</td>\n",
              "      <td>4022901</td>\n",
              "      <td>920</td>\n",
              "      <td>X11-14</td>\n",
              "      <td>2</td>\n",
              "    </tr>\n",
              "    <tr>\n",
              "      <th>26</th>\n",
              "      <td>X3106</td>\n",
              "      <td>X3106</td>\n",
              "      <td>0000905</td>\n",
              "      <td>2020-10-21</td>\n",
              "      <td>4139099</td>\n",
              "      <td>HJ</td>\n",
              "      <td>2019-03-26</td>\n",
              "      <td>4070050</td>\n",
              "      <td>914.9</td>\n",
              "      <td>X11-14</td>\n",
              "      <td>2</td>\n",
              "    </tr>\n",
              "    <tr>\n",
              "      <th>99</th>\n",
              "      <td>X3110</td>\n",
              "      <td>X3110</td>\n",
              "      <td>0000907</td>\n",
              "      <td>2020-10-21</td>\n",
              "      <td>4515270</td>\n",
              "      <td>SVA</td>\n",
              "      <td>2006-09-20</td>\n",
              "      <td>3035765</td>\n",
              "      <td>867</td>\n",
              "      <td>X11-14</td>\n",
              "      <td>1</td>\n",
              "    </tr>\n",
              "    <tr>\n",
              "      <th>98</th>\n",
              "      <td>X3110</td>\n",
              "      <td>X3110</td>\n",
              "      <td>0000907</td>\n",
              "      <td>2020-10-21</td>\n",
              "      <td>4515270</td>\n",
              "      <td>HJ</td>\n",
              "      <td>2007-11-29</td>\n",
              "      <td>3198733</td>\n",
              "      <td>858.5</td>\n",
              "      <td>X11-14</td>\n",
              "      <td>1</td>\n",
              "    </tr>\n",
              "    <tr>\n",
              "      <th>101</th>\n",
              "      <td>X3110</td>\n",
              "      <td>X3110</td>\n",
              "      <td>0000907</td>\n",
              "      <td>2020-10-21</td>\n",
              "      <td>4515270</td>\n",
              "      <td>OMS</td>\n",
              "      <td>2009-01-28</td>\n",
              "      <td>3208845</td>\n",
              "      <td>920</td>\n",
              "      <td>X11-14</td>\n",
              "      <td>1</td>\n",
              "    </tr>\n",
              "    <tr>\n",
              "      <th>100</th>\n",
              "      <td>X3110</td>\n",
              "      <td>X3110</td>\n",
              "      <td>0000907</td>\n",
              "      <td>2020-10-21</td>\n",
              "      <td>4515270</td>\n",
              "      <td>HJ</td>\n",
              "      <td>2011-03-09</td>\n",
              "      <td>3536084</td>\n",
              "      <td>903.1</td>\n",
              "      <td>X11-14</td>\n",
              "      <td>2</td>\n",
              "    </tr>\n",
              "    <tr>\n",
              "      <th>102</th>\n",
              "      <td>X3110</td>\n",
              "      <td>X3110</td>\n",
              "      <td>0000907</td>\n",
              "      <td>2020-10-21</td>\n",
              "      <td>4515270</td>\n",
              "      <td>HJ</td>\n",
              "      <td>2017-02-02</td>\n",
              "      <td>4242026</td>\n",
              "      <td>875</td>\n",
              "      <td>X11-14</td>\n",
              "      <td>3</td>\n",
              "    </tr>\n",
              "  </tbody>\n",
              "</table>\n",
              "</div>"
            ],
            "text/plain": [
              "         a VehicleNumber        b  ... LeftWheelDiameter       c Seq\n",
              "24   X3106         X3106  0000905  ...               918  X11-14   1\n",
              "27   X3106         X3106  0000905  ...             903.5  X11-14   1\n",
              "25   X3106         X3106  0000905  ...               878  X11-14   1\n",
              "28   X3106         X3106  0000905  ...               920  X11-14   2\n",
              "26   X3106         X3106  0000905  ...             914.9  X11-14   2\n",
              "99   X3110         X3110  0000907  ...               867  X11-14   1\n",
              "98   X3110         X3110  0000907  ...             858.5  X11-14   1\n",
              "101  X3110         X3110  0000907  ...               920  X11-14   1\n",
              "100  X3110         X3110  0000907  ...             903.1  X11-14   2\n",
              "102  X3110         X3110  0000907  ...               875  X11-14   3\n",
              "\n",
              "[10 rows x 11 columns]"
            ]
          },
          "metadata": {
            "tags": []
          },
          "execution_count": 54
        }
      ]
    }
  ]
}