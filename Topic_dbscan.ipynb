{
  "nbformat": 4,
  "nbformat_minor": 0,
  "metadata": {
    "colab": {
      "name": "Topic_dbscan.ipynb",
      "provenance": [],
      "collapsed_sections": [],
      "toc_visible": true,
      "authorship_tag": "ABX9TyMxMRDzolKrPocGJle9qsim",
      "include_colab_link": true
    },
    "kernelspec": {
      "name": "python3",
      "display_name": "Python 3"
    },
    "language_info": {
      "name": "python"
    },
    "accelerator": "GPU",
    "widgets": {
      "application/vnd.jupyter.widget-state+json": {
        "4d49b0616d7c443393db493083baf04b": {
          "model_module": "@jupyter-widgets/controls",
          "model_name": "HBoxModel",
          "state": {
            "_view_name": "HBoxView",
            "_dom_classes": [],
            "_model_name": "HBoxModel",
            "_view_module": "@jupyter-widgets/controls",
            "_model_module_version": "1.5.0",
            "_view_count": null,
            "_view_module_version": "1.5.0",
            "box_style": "",
            "layout": "IPY_MODEL_68da6b0a99e042eeb95b5f69dd25f400",
            "_model_module": "@jupyter-widgets/controls",
            "children": [
              "IPY_MODEL_1222e332ad954802993da8a1bc470e54",
              "IPY_MODEL_632207a19b924aa7aa9c6f388077de86"
            ]
          }
        },
        "68da6b0a99e042eeb95b5f69dd25f400": {
          "model_module": "@jupyter-widgets/base",
          "model_name": "LayoutModel",
          "state": {
            "_view_name": "LayoutView",
            "grid_template_rows": null,
            "right": null,
            "justify_content": null,
            "_view_module": "@jupyter-widgets/base",
            "overflow": null,
            "_model_module_version": "1.2.0",
            "_view_count": null,
            "flex_flow": null,
            "width": null,
            "min_width": null,
            "border": null,
            "align_items": null,
            "bottom": null,
            "_model_module": "@jupyter-widgets/base",
            "top": null,
            "grid_column": null,
            "overflow_y": null,
            "overflow_x": null,
            "grid_auto_flow": null,
            "grid_area": null,
            "grid_template_columns": null,
            "flex": null,
            "_model_name": "LayoutModel",
            "justify_items": null,
            "grid_row": null,
            "max_height": null,
            "align_content": null,
            "visibility": null,
            "align_self": null,
            "height": null,
            "min_height": null,
            "padding": null,
            "grid_auto_rows": null,
            "grid_gap": null,
            "max_width": null,
            "order": null,
            "_view_module_version": "1.2.0",
            "grid_template_areas": null,
            "object_position": null,
            "object_fit": null,
            "grid_auto_columns": null,
            "margin": null,
            "display": null,
            "left": null
          }
        },
        "1222e332ad954802993da8a1bc470e54": {
          "model_module": "@jupyter-widgets/controls",
          "model_name": "FloatProgressModel",
          "state": {
            "_view_name": "ProgressView",
            "style": "IPY_MODEL_a16443e07bbb44548bf57c73f85125bb",
            "_dom_classes": [],
            "description": "Downloading: 100%",
            "_model_name": "FloatProgressModel",
            "bar_style": "success",
            "max": 399162,
            "_view_module": "@jupyter-widgets/controls",
            "_model_module_version": "1.5.0",
            "value": 399162,
            "_view_count": null,
            "_view_module_version": "1.5.0",
            "orientation": "horizontal",
            "min": 0,
            "description_tooltip": null,
            "_model_module": "@jupyter-widgets/controls",
            "layout": "IPY_MODEL_7d86a270bdbe43f888c394272b2d3eb4"
          }
        },
        "632207a19b924aa7aa9c6f388077de86": {
          "model_module": "@jupyter-widgets/controls",
          "model_name": "HTMLModel",
          "state": {
            "_view_name": "HTMLView",
            "style": "IPY_MODEL_131d67a7626a43f7930d521d28b4c8c2",
            "_dom_classes": [],
            "description": "",
            "_model_name": "HTMLModel",
            "placeholder": "​",
            "_view_module": "@jupyter-widgets/controls",
            "_model_module_version": "1.5.0",
            "value": " 399k/399k [00:01&lt;00:00, 292kB/s]",
            "_view_count": null,
            "_view_module_version": "1.5.0",
            "description_tooltip": null,
            "_model_module": "@jupyter-widgets/controls",
            "layout": "IPY_MODEL_18ee15eef2514108b4faa5dd84c8ae1f"
          }
        },
        "a16443e07bbb44548bf57c73f85125bb": {
          "model_module": "@jupyter-widgets/controls",
          "model_name": "ProgressStyleModel",
          "state": {
            "_view_name": "StyleView",
            "_model_name": "ProgressStyleModel",
            "description_width": "initial",
            "_view_module": "@jupyter-widgets/base",
            "_model_module_version": "1.5.0",
            "_view_count": null,
            "_view_module_version": "1.2.0",
            "bar_color": null,
            "_model_module": "@jupyter-widgets/controls"
          }
        },
        "7d86a270bdbe43f888c394272b2d3eb4": {
          "model_module": "@jupyter-widgets/base",
          "model_name": "LayoutModel",
          "state": {
            "_view_name": "LayoutView",
            "grid_template_rows": null,
            "right": null,
            "justify_content": null,
            "_view_module": "@jupyter-widgets/base",
            "overflow": null,
            "_model_module_version": "1.2.0",
            "_view_count": null,
            "flex_flow": null,
            "width": null,
            "min_width": null,
            "border": null,
            "align_items": null,
            "bottom": null,
            "_model_module": "@jupyter-widgets/base",
            "top": null,
            "grid_column": null,
            "overflow_y": null,
            "overflow_x": null,
            "grid_auto_flow": null,
            "grid_area": null,
            "grid_template_columns": null,
            "flex": null,
            "_model_name": "LayoutModel",
            "justify_items": null,
            "grid_row": null,
            "max_height": null,
            "align_content": null,
            "visibility": null,
            "align_self": null,
            "height": null,
            "min_height": null,
            "padding": null,
            "grid_auto_rows": null,
            "grid_gap": null,
            "max_width": null,
            "order": null,
            "_view_module_version": "1.2.0",
            "grid_template_areas": null,
            "object_position": null,
            "object_fit": null,
            "grid_auto_columns": null,
            "margin": null,
            "display": null,
            "left": null
          }
        },
        "131d67a7626a43f7930d521d28b4c8c2": {
          "model_module": "@jupyter-widgets/controls",
          "model_name": "DescriptionStyleModel",
          "state": {
            "_view_name": "StyleView",
            "_model_name": "DescriptionStyleModel",
            "description_width": "",
            "_view_module": "@jupyter-widgets/base",
            "_model_module_version": "1.5.0",
            "_view_count": null,
            "_view_module_version": "1.2.0",
            "_model_module": "@jupyter-widgets/controls"
          }
        },
        "18ee15eef2514108b4faa5dd84c8ae1f": {
          "model_module": "@jupyter-widgets/base",
          "model_name": "LayoutModel",
          "state": {
            "_view_name": "LayoutView",
            "grid_template_rows": null,
            "right": null,
            "justify_content": null,
            "_view_module": "@jupyter-widgets/base",
            "overflow": null,
            "_model_module_version": "1.2.0",
            "_view_count": null,
            "flex_flow": null,
            "width": null,
            "min_width": null,
            "border": null,
            "align_items": null,
            "bottom": null,
            "_model_module": "@jupyter-widgets/base",
            "top": null,
            "grid_column": null,
            "overflow_y": null,
            "overflow_x": null,
            "grid_auto_flow": null,
            "grid_area": null,
            "grid_template_columns": null,
            "flex": null,
            "_model_name": "LayoutModel",
            "justify_items": null,
            "grid_row": null,
            "max_height": null,
            "align_content": null,
            "visibility": null,
            "align_self": null,
            "height": null,
            "min_height": null,
            "padding": null,
            "grid_auto_rows": null,
            "grid_gap": null,
            "max_width": null,
            "order": null,
            "_view_module_version": "1.2.0",
            "grid_template_areas": null,
            "object_position": null,
            "object_fit": null,
            "grid_auto_columns": null,
            "margin": null,
            "display": null,
            "left": null
          }
        },
        "61463548e75744479adaeab28b533b1a": {
          "model_module": "@jupyter-widgets/controls",
          "model_name": "HBoxModel",
          "state": {
            "_view_name": "HBoxView",
            "_dom_classes": [],
            "_model_name": "HBoxModel",
            "_view_module": "@jupyter-widgets/controls",
            "_model_module_version": "1.5.0",
            "_view_count": null,
            "_view_module_version": "1.5.0",
            "box_style": "",
            "layout": "IPY_MODEL_348fdab663874982b50610b19556022a",
            "_model_module": "@jupyter-widgets/controls",
            "children": [
              "IPY_MODEL_6a4a5b400072483091fc1a371ba3fae8",
              "IPY_MODEL_39dae23dd99049e8a1fb44fcaf044195"
            ]
          }
        },
        "348fdab663874982b50610b19556022a": {
          "model_module": "@jupyter-widgets/base",
          "model_name": "LayoutModel",
          "state": {
            "_view_name": "LayoutView",
            "grid_template_rows": null,
            "right": null,
            "justify_content": null,
            "_view_module": "@jupyter-widgets/base",
            "overflow": null,
            "_model_module_version": "1.2.0",
            "_view_count": null,
            "flex_flow": null,
            "width": null,
            "min_width": null,
            "border": null,
            "align_items": null,
            "bottom": null,
            "_model_module": "@jupyter-widgets/base",
            "top": null,
            "grid_column": null,
            "overflow_y": null,
            "overflow_x": null,
            "grid_auto_flow": null,
            "grid_area": null,
            "grid_template_columns": null,
            "flex": null,
            "_model_name": "LayoutModel",
            "justify_items": null,
            "grid_row": null,
            "max_height": null,
            "align_content": null,
            "visibility": null,
            "align_self": null,
            "height": null,
            "min_height": null,
            "padding": null,
            "grid_auto_rows": null,
            "grid_gap": null,
            "max_width": null,
            "order": null,
            "_view_module_version": "1.2.0",
            "grid_template_areas": null,
            "object_position": null,
            "object_fit": null,
            "grid_auto_columns": null,
            "margin": null,
            "display": null,
            "left": null
          }
        },
        "6a4a5b400072483091fc1a371ba3fae8": {
          "model_module": "@jupyter-widgets/controls",
          "model_name": "FloatProgressModel",
          "state": {
            "_view_name": "ProgressView",
            "style": "IPY_MODEL_d8f61c67cbb74583a9d473e14aeff0c5",
            "_dom_classes": [],
            "description": "Downloading: 100%",
            "_model_name": "FloatProgressModel",
            "bar_style": "success",
            "max": 183,
            "_view_module": "@jupyter-widgets/controls",
            "_model_module_version": "1.5.0",
            "value": 183,
            "_view_count": null,
            "_view_module_version": "1.5.0",
            "orientation": "horizontal",
            "min": 0,
            "description_tooltip": null,
            "_model_module": "@jupyter-widgets/controls",
            "layout": "IPY_MODEL_97d9304822af416ebda9fc99aa2da0be"
          }
        },
        "39dae23dd99049e8a1fb44fcaf044195": {
          "model_module": "@jupyter-widgets/controls",
          "model_name": "HTMLModel",
          "state": {
            "_view_name": "HTMLView",
            "style": "IPY_MODEL_973acd6b168f4b84bd5da6d43b03a679",
            "_dom_classes": [],
            "description": "",
            "_model_name": "HTMLModel",
            "placeholder": "​",
            "_view_module": "@jupyter-widgets/controls",
            "_model_module_version": "1.5.0",
            "value": " 183/183 [00:00&lt;00:00, 4.34kB/s]",
            "_view_count": null,
            "_view_module_version": "1.5.0",
            "description_tooltip": null,
            "_model_module": "@jupyter-widgets/controls",
            "layout": "IPY_MODEL_07d89222be3c4e0e80fb27248e0896a9"
          }
        },
        "d8f61c67cbb74583a9d473e14aeff0c5": {
          "model_module": "@jupyter-widgets/controls",
          "model_name": "ProgressStyleModel",
          "state": {
            "_view_name": "StyleView",
            "_model_name": "ProgressStyleModel",
            "description_width": "initial",
            "_view_module": "@jupyter-widgets/base",
            "_model_module_version": "1.5.0",
            "_view_count": null,
            "_view_module_version": "1.2.0",
            "bar_color": null,
            "_model_module": "@jupyter-widgets/controls"
          }
        },
        "97d9304822af416ebda9fc99aa2da0be": {
          "model_module": "@jupyter-widgets/base",
          "model_name": "LayoutModel",
          "state": {
            "_view_name": "LayoutView",
            "grid_template_rows": null,
            "right": null,
            "justify_content": null,
            "_view_module": "@jupyter-widgets/base",
            "overflow": null,
            "_model_module_version": "1.2.0",
            "_view_count": null,
            "flex_flow": null,
            "width": null,
            "min_width": null,
            "border": null,
            "align_items": null,
            "bottom": null,
            "_model_module": "@jupyter-widgets/base",
            "top": null,
            "grid_column": null,
            "overflow_y": null,
            "overflow_x": null,
            "grid_auto_flow": null,
            "grid_area": null,
            "grid_template_columns": null,
            "flex": null,
            "_model_name": "LayoutModel",
            "justify_items": null,
            "grid_row": null,
            "max_height": null,
            "align_content": null,
            "visibility": null,
            "align_self": null,
            "height": null,
            "min_height": null,
            "padding": null,
            "grid_auto_rows": null,
            "grid_gap": null,
            "max_width": null,
            "order": null,
            "_view_module_version": "1.2.0",
            "grid_template_areas": null,
            "object_position": null,
            "object_fit": null,
            "grid_auto_columns": null,
            "margin": null,
            "display": null,
            "left": null
          }
        },
        "973acd6b168f4b84bd5da6d43b03a679": {
          "model_module": "@jupyter-widgets/controls",
          "model_name": "DescriptionStyleModel",
          "state": {
            "_view_name": "StyleView",
            "_model_name": "DescriptionStyleModel",
            "description_width": "",
            "_view_module": "@jupyter-widgets/base",
            "_model_module_version": "1.5.0",
            "_view_count": null,
            "_view_module_version": "1.2.0",
            "_model_module": "@jupyter-widgets/controls"
          }
        },
        "07d89222be3c4e0e80fb27248e0896a9": {
          "model_module": "@jupyter-widgets/base",
          "model_name": "LayoutModel",
          "state": {
            "_view_name": "LayoutView",
            "grid_template_rows": null,
            "right": null,
            "justify_content": null,
            "_view_module": "@jupyter-widgets/base",
            "overflow": null,
            "_model_module_version": "1.2.0",
            "_view_count": null,
            "flex_flow": null,
            "width": null,
            "min_width": null,
            "border": null,
            "align_items": null,
            "bottom": null,
            "_model_module": "@jupyter-widgets/base",
            "top": null,
            "grid_column": null,
            "overflow_y": null,
            "overflow_x": null,
            "grid_auto_flow": null,
            "grid_area": null,
            "grid_template_columns": null,
            "flex": null,
            "_model_name": "LayoutModel",
            "justify_items": null,
            "grid_row": null,
            "max_height": null,
            "align_content": null,
            "visibility": null,
            "align_self": null,
            "height": null,
            "min_height": null,
            "padding": null,
            "grid_auto_rows": null,
            "grid_gap": null,
            "max_width": null,
            "order": null,
            "_view_module_version": "1.2.0",
            "grid_template_areas": null,
            "object_position": null,
            "object_fit": null,
            "grid_auto_columns": null,
            "margin": null,
            "display": null,
            "left": null
          }
        },
        "be642e9ec2074e8da7ece33528de22d3": {
          "model_module": "@jupyter-widgets/controls",
          "model_name": "HBoxModel",
          "state": {
            "_view_name": "HBoxView",
            "_dom_classes": [],
            "_model_name": "HBoxModel",
            "_view_module": "@jupyter-widgets/controls",
            "_model_module_version": "1.5.0",
            "_view_count": null,
            "_view_module_version": "1.5.0",
            "box_style": "",
            "layout": "IPY_MODEL_700df35dab73424c956f71fd38899ade",
            "_model_module": "@jupyter-widgets/controls",
            "children": [
              "IPY_MODEL_191f0114346846779df9afc311d6e5a2",
              "IPY_MODEL_652b6b95b23049fcb8c7fa006686a6d4"
            ]
          }
        },
        "700df35dab73424c956f71fd38899ade": {
          "model_module": "@jupyter-widgets/base",
          "model_name": "LayoutModel",
          "state": {
            "_view_name": "LayoutView",
            "grid_template_rows": null,
            "right": null,
            "justify_content": null,
            "_view_module": "@jupyter-widgets/base",
            "overflow": null,
            "_model_module_version": "1.2.0",
            "_view_count": null,
            "flex_flow": null,
            "width": null,
            "min_width": null,
            "border": null,
            "align_items": null,
            "bottom": null,
            "_model_module": "@jupyter-widgets/base",
            "top": null,
            "grid_column": null,
            "overflow_y": null,
            "overflow_x": null,
            "grid_auto_flow": null,
            "grid_area": null,
            "grid_template_columns": null,
            "flex": null,
            "_model_name": "LayoutModel",
            "justify_items": null,
            "grid_row": null,
            "max_height": null,
            "align_content": null,
            "visibility": null,
            "align_self": null,
            "height": null,
            "min_height": null,
            "padding": null,
            "grid_auto_rows": null,
            "grid_gap": null,
            "max_width": null,
            "order": null,
            "_view_module_version": "1.2.0",
            "grid_template_areas": null,
            "object_position": null,
            "object_fit": null,
            "grid_auto_columns": null,
            "margin": null,
            "display": null,
            "left": null
          }
        },
        "191f0114346846779df9afc311d6e5a2": {
          "model_module": "@jupyter-widgets/controls",
          "model_name": "FloatProgressModel",
          "state": {
            "_view_name": "ProgressView",
            "style": "IPY_MODEL_a6c7dfe98f5948eb9d3bc77881e2dec9",
            "_dom_classes": [],
            "description": "Downloading: 100%",
            "_model_name": "FloatProgressModel",
            "bar_style": "success",
            "max": 434,
            "_view_module": "@jupyter-widgets/controls",
            "_model_module_version": "1.5.0",
            "value": 434,
            "_view_count": null,
            "_view_module_version": "1.5.0",
            "orientation": "horizontal",
            "min": 0,
            "description_tooltip": null,
            "_model_module": "@jupyter-widgets/controls",
            "layout": "IPY_MODEL_ef9c25e93d4a41b5bf214ff0bba8cfdc"
          }
        },
        "652b6b95b23049fcb8c7fa006686a6d4": {
          "model_module": "@jupyter-widgets/controls",
          "model_name": "HTMLModel",
          "state": {
            "_view_name": "HTMLView",
            "style": "IPY_MODEL_85ce21306c7549d7bd5e62a7c6d461f4",
            "_dom_classes": [],
            "description": "",
            "_model_name": "HTMLModel",
            "placeholder": "​",
            "_view_module": "@jupyter-widgets/controls",
            "_model_module_version": "1.5.0",
            "value": " 434/434 [00:27&lt;00:00, 15.7B/s]",
            "_view_count": null,
            "_view_module_version": "1.5.0",
            "description_tooltip": null,
            "_model_module": "@jupyter-widgets/controls",
            "layout": "IPY_MODEL_cf8c86e425704e52ab803c1d0fbc54cb"
          }
        },
        "a6c7dfe98f5948eb9d3bc77881e2dec9": {
          "model_module": "@jupyter-widgets/controls",
          "model_name": "ProgressStyleModel",
          "state": {
            "_view_name": "StyleView",
            "_model_name": "ProgressStyleModel",
            "description_width": "initial",
            "_view_module": "@jupyter-widgets/base",
            "_model_module_version": "1.5.0",
            "_view_count": null,
            "_view_module_version": "1.2.0",
            "bar_color": null,
            "_model_module": "@jupyter-widgets/controls"
          }
        },
        "ef9c25e93d4a41b5bf214ff0bba8cfdc": {
          "model_module": "@jupyter-widgets/base",
          "model_name": "LayoutModel",
          "state": {
            "_view_name": "LayoutView",
            "grid_template_rows": null,
            "right": null,
            "justify_content": null,
            "_view_module": "@jupyter-widgets/base",
            "overflow": null,
            "_model_module_version": "1.2.0",
            "_view_count": null,
            "flex_flow": null,
            "width": null,
            "min_width": null,
            "border": null,
            "align_items": null,
            "bottom": null,
            "_model_module": "@jupyter-widgets/base",
            "top": null,
            "grid_column": null,
            "overflow_y": null,
            "overflow_x": null,
            "grid_auto_flow": null,
            "grid_area": null,
            "grid_template_columns": null,
            "flex": null,
            "_model_name": "LayoutModel",
            "justify_items": null,
            "grid_row": null,
            "max_height": null,
            "align_content": null,
            "visibility": null,
            "align_self": null,
            "height": null,
            "min_height": null,
            "padding": null,
            "grid_auto_rows": null,
            "grid_gap": null,
            "max_width": null,
            "order": null,
            "_view_module_version": "1.2.0",
            "grid_template_areas": null,
            "object_position": null,
            "object_fit": null,
            "grid_auto_columns": null,
            "margin": null,
            "display": null,
            "left": null
          }
        },
        "85ce21306c7549d7bd5e62a7c6d461f4": {
          "model_module": "@jupyter-widgets/controls",
          "model_name": "DescriptionStyleModel",
          "state": {
            "_view_name": "StyleView",
            "_model_name": "DescriptionStyleModel",
            "description_width": "",
            "_view_module": "@jupyter-widgets/base",
            "_model_module_version": "1.5.0",
            "_view_count": null,
            "_view_module_version": "1.2.0",
            "_model_module": "@jupyter-widgets/controls"
          }
        },
        "cf8c86e425704e52ab803c1d0fbc54cb": {
          "model_module": "@jupyter-widgets/base",
          "model_name": "LayoutModel",
          "state": {
            "_view_name": "LayoutView",
            "grid_template_rows": null,
            "right": null,
            "justify_content": null,
            "_view_module": "@jupyter-widgets/base",
            "overflow": null,
            "_model_module_version": "1.2.0",
            "_view_count": null,
            "flex_flow": null,
            "width": null,
            "min_width": null,
            "border": null,
            "align_items": null,
            "bottom": null,
            "_model_module": "@jupyter-widgets/base",
            "top": null,
            "grid_column": null,
            "overflow_y": null,
            "overflow_x": null,
            "grid_auto_flow": null,
            "grid_area": null,
            "grid_template_columns": null,
            "flex": null,
            "_model_name": "LayoutModel",
            "justify_items": null,
            "grid_row": null,
            "max_height": null,
            "align_content": null,
            "visibility": null,
            "align_self": null,
            "height": null,
            "min_height": null,
            "padding": null,
            "grid_auto_rows": null,
            "grid_gap": null,
            "max_width": null,
            "order": null,
            "_view_module_version": "1.2.0",
            "grid_template_areas": null,
            "object_position": null,
            "object_fit": null,
            "grid_auto_columns": null,
            "margin": null,
            "display": null,
            "left": null
          }
        },
        "98ad8f77de4b4722a01b3c83a1a6d078": {
          "model_module": "@jupyter-widgets/controls",
          "model_name": "HBoxModel",
          "state": {
            "_view_name": "HBoxView",
            "_dom_classes": [],
            "_model_name": "HBoxModel",
            "_view_module": "@jupyter-widgets/controls",
            "_model_module_version": "1.5.0",
            "_view_count": null,
            "_view_module_version": "1.5.0",
            "box_style": "",
            "layout": "IPY_MODEL_62cbc5e4d83444c49778c6479883f246",
            "_model_module": "@jupyter-widgets/controls",
            "children": [
              "IPY_MODEL_d13b4b43a5234406bd86d5eedb1195e6",
              "IPY_MODEL_0660e9ff4e974e2db102bff3a2a58fa6"
            ]
          }
        },
        "62cbc5e4d83444c49778c6479883f246": {
          "model_module": "@jupyter-widgets/base",
          "model_name": "LayoutModel",
          "state": {
            "_view_name": "LayoutView",
            "grid_template_rows": null,
            "right": null,
            "justify_content": null,
            "_view_module": "@jupyter-widgets/base",
            "overflow": null,
            "_model_module_version": "1.2.0",
            "_view_count": null,
            "flex_flow": null,
            "width": null,
            "min_width": null,
            "border": null,
            "align_items": null,
            "bottom": null,
            "_model_module": "@jupyter-widgets/base",
            "top": null,
            "grid_column": null,
            "overflow_y": null,
            "overflow_x": null,
            "grid_auto_flow": null,
            "grid_area": null,
            "grid_template_columns": null,
            "flex": null,
            "_model_name": "LayoutModel",
            "justify_items": null,
            "grid_row": null,
            "max_height": null,
            "align_content": null,
            "visibility": null,
            "align_self": null,
            "height": null,
            "min_height": null,
            "padding": null,
            "grid_auto_rows": null,
            "grid_gap": null,
            "max_width": null,
            "order": null,
            "_view_module_version": "1.2.0",
            "grid_template_areas": null,
            "object_position": null,
            "object_fit": null,
            "grid_auto_columns": null,
            "margin": null,
            "display": null,
            "left": null
          }
        },
        "d13b4b43a5234406bd86d5eedb1195e6": {
          "model_module": "@jupyter-widgets/controls",
          "model_name": "FloatProgressModel",
          "state": {
            "_view_name": "ProgressView",
            "style": "IPY_MODEL_87b0f59a437b46c1a3464f2686c12869",
            "_dom_classes": [],
            "description": "Downloading: 100%",
            "_model_name": "FloatProgressModel",
            "bar_style": "success",
            "max": 1344999751,
            "_view_module": "@jupyter-widgets/controls",
            "_model_module_version": "1.5.0",
            "value": 1344999751,
            "_view_count": null,
            "_view_module_version": "1.5.0",
            "orientation": "horizontal",
            "min": 0,
            "description_tooltip": null,
            "_model_module": "@jupyter-widgets/controls",
            "layout": "IPY_MODEL_03c4e80c0c80497e812a7a2c94341e7a"
          }
        },
        "0660e9ff4e974e2db102bff3a2a58fa6": {
          "model_module": "@jupyter-widgets/controls",
          "model_name": "HTMLModel",
          "state": {
            "_view_name": "HTMLView",
            "style": "IPY_MODEL_b05a270553ed41bc96c64a375db52b69",
            "_dom_classes": [],
            "description": "",
            "_model_name": "HTMLModel",
            "placeholder": "​",
            "_view_module": "@jupyter-widgets/controls",
            "_model_module_version": "1.5.0",
            "value": " 1.34G/1.34G [00:44&lt;00:00, 30.5MB/s]",
            "_view_count": null,
            "_view_module_version": "1.5.0",
            "description_tooltip": null,
            "_model_module": "@jupyter-widgets/controls",
            "layout": "IPY_MODEL_d965087e7e29481793cd388bed19b375"
          }
        },
        "87b0f59a437b46c1a3464f2686c12869": {
          "model_module": "@jupyter-widgets/controls",
          "model_name": "ProgressStyleModel",
          "state": {
            "_view_name": "StyleView",
            "_model_name": "ProgressStyleModel",
            "description_width": "initial",
            "_view_module": "@jupyter-widgets/base",
            "_model_module_version": "1.5.0",
            "_view_count": null,
            "_view_module_version": "1.2.0",
            "bar_color": null,
            "_model_module": "@jupyter-widgets/controls"
          }
        },
        "03c4e80c0c80497e812a7a2c94341e7a": {
          "model_module": "@jupyter-widgets/base",
          "model_name": "LayoutModel",
          "state": {
            "_view_name": "LayoutView",
            "grid_template_rows": null,
            "right": null,
            "justify_content": null,
            "_view_module": "@jupyter-widgets/base",
            "overflow": null,
            "_model_module_version": "1.2.0",
            "_view_count": null,
            "flex_flow": null,
            "width": null,
            "min_width": null,
            "border": null,
            "align_items": null,
            "bottom": null,
            "_model_module": "@jupyter-widgets/base",
            "top": null,
            "grid_column": null,
            "overflow_y": null,
            "overflow_x": null,
            "grid_auto_flow": null,
            "grid_area": null,
            "grid_template_columns": null,
            "flex": null,
            "_model_name": "LayoutModel",
            "justify_items": null,
            "grid_row": null,
            "max_height": null,
            "align_content": null,
            "visibility": null,
            "align_self": null,
            "height": null,
            "min_height": null,
            "padding": null,
            "grid_auto_rows": null,
            "grid_gap": null,
            "max_width": null,
            "order": null,
            "_view_module_version": "1.2.0",
            "grid_template_areas": null,
            "object_position": null,
            "object_fit": null,
            "grid_auto_columns": null,
            "margin": null,
            "display": null,
            "left": null
          }
        },
        "b05a270553ed41bc96c64a375db52b69": {
          "model_module": "@jupyter-widgets/controls",
          "model_name": "DescriptionStyleModel",
          "state": {
            "_view_name": "StyleView",
            "_model_name": "DescriptionStyleModel",
            "description_width": "",
            "_view_module": "@jupyter-widgets/base",
            "_model_module_version": "1.5.0",
            "_view_count": null,
            "_view_module_version": "1.2.0",
            "_model_module": "@jupyter-widgets/controls"
          }
        },
        "d965087e7e29481793cd388bed19b375": {
          "model_module": "@jupyter-widgets/base",
          "model_name": "LayoutModel",
          "state": {
            "_view_name": "LayoutView",
            "grid_template_rows": null,
            "right": null,
            "justify_content": null,
            "_view_module": "@jupyter-widgets/base",
            "overflow": null,
            "_model_module_version": "1.2.0",
            "_view_count": null,
            "flex_flow": null,
            "width": null,
            "min_width": null,
            "border": null,
            "align_items": null,
            "bottom": null,
            "_model_module": "@jupyter-widgets/base",
            "top": null,
            "grid_column": null,
            "overflow_y": null,
            "overflow_x": null,
            "grid_auto_flow": null,
            "grid_area": null,
            "grid_template_columns": null,
            "flex": null,
            "_model_name": "LayoutModel",
            "justify_items": null,
            "grid_row": null,
            "max_height": null,
            "align_content": null,
            "visibility": null,
            "align_self": null,
            "height": null,
            "min_height": null,
            "padding": null,
            "grid_auto_rows": null,
            "grid_gap": null,
            "max_width": null,
            "order": null,
            "_view_module_version": "1.2.0",
            "grid_template_areas": null,
            "object_position": null,
            "object_fit": null,
            "grid_auto_columns": null,
            "margin": null,
            "display": null,
            "left": null
          }
        },
        "b76916c1b8ea4a2b8be5ba3f47e969c4": {
          "model_module": "@jupyter-widgets/controls",
          "model_name": "HBoxModel",
          "state": {
            "_view_name": "HBoxView",
            "_dom_classes": [],
            "_model_name": "HBoxModel",
            "_view_module": "@jupyter-widgets/controls",
            "_model_module_version": "1.5.0",
            "_view_count": null,
            "_view_module_version": "1.5.0",
            "box_style": "",
            "layout": "IPY_MODEL_cea29843af834dcbbcd56e2a2d18f185",
            "_model_module": "@jupyter-widgets/controls",
            "children": [
              "IPY_MODEL_4bfdee6b5eaa4384bca1aec5f0a17de9",
              "IPY_MODEL_a320e3f956ca4065a3b58a956ac133e8"
            ]
          }
        },
        "cea29843af834dcbbcd56e2a2d18f185": {
          "model_module": "@jupyter-widgets/base",
          "model_name": "LayoutModel",
          "state": {
            "_view_name": "LayoutView",
            "grid_template_rows": null,
            "right": null,
            "justify_content": null,
            "_view_module": "@jupyter-widgets/base",
            "overflow": null,
            "_model_module_version": "1.2.0",
            "_view_count": null,
            "flex_flow": null,
            "width": null,
            "min_width": null,
            "border": null,
            "align_items": null,
            "bottom": null,
            "_model_module": "@jupyter-widgets/base",
            "top": null,
            "grid_column": null,
            "overflow_y": null,
            "overflow_x": null,
            "grid_auto_flow": null,
            "grid_area": null,
            "grid_template_columns": null,
            "flex": null,
            "_model_name": "LayoutModel",
            "justify_items": null,
            "grid_row": null,
            "max_height": null,
            "align_content": null,
            "visibility": null,
            "align_self": null,
            "height": null,
            "min_height": null,
            "padding": null,
            "grid_auto_rows": null,
            "grid_gap": null,
            "max_width": null,
            "order": null,
            "_view_module_version": "1.2.0",
            "grid_template_areas": null,
            "object_position": null,
            "object_fit": null,
            "grid_auto_columns": null,
            "margin": null,
            "display": null,
            "left": null
          }
        },
        "4bfdee6b5eaa4384bca1aec5f0a17de9": {
          "model_module": "@jupyter-widgets/controls",
          "model_name": "FloatProgressModel",
          "state": {
            "_view_name": "ProgressView",
            "style": "IPY_MODEL_2060898c08c54f0ca0e6749d40c85e09",
            "_dom_classes": [],
            "description": "Downloading: 100%",
            "_model_name": "FloatProgressModel",
            "bar_style": "success",
            "max": 254112,
            "_view_module": "@jupyter-widgets/controls",
            "_model_module_version": "1.5.0",
            "value": 254112,
            "_view_count": null,
            "_view_module_version": "1.5.0",
            "orientation": "horizontal",
            "min": 0,
            "description_tooltip": null,
            "_model_module": "@jupyter-widgets/controls",
            "layout": "IPY_MODEL_5e4c29caf5c2466cafd13f9b022bd2ad"
          }
        },
        "a320e3f956ca4065a3b58a956ac133e8": {
          "model_module": "@jupyter-widgets/controls",
          "model_name": "HTMLModel",
          "state": {
            "_view_name": "HTMLView",
            "style": "IPY_MODEL_ebcb5f40963048779abcaf4daa757da0",
            "_dom_classes": [],
            "description": "",
            "_model_name": "HTMLModel",
            "placeholder": "​",
            "_view_module": "@jupyter-widgets/controls",
            "_model_module_version": "1.5.0",
            "value": " 254k/254k [00:01&lt;00:00, 197kB/s]",
            "_view_count": null,
            "_view_module_version": "1.5.0",
            "description_tooltip": null,
            "_model_module": "@jupyter-widgets/controls",
            "layout": "IPY_MODEL_00b018e8c87d40fda6ce4210c069fc42"
          }
        },
        "2060898c08c54f0ca0e6749d40c85e09": {
          "model_module": "@jupyter-widgets/controls",
          "model_name": "ProgressStyleModel",
          "state": {
            "_view_name": "StyleView",
            "_model_name": "ProgressStyleModel",
            "description_width": "initial",
            "_view_module": "@jupyter-widgets/base",
            "_model_module_version": "1.5.0",
            "_view_count": null,
            "_view_module_version": "1.2.0",
            "bar_color": null,
            "_model_module": "@jupyter-widgets/controls"
          }
        },
        "5e4c29caf5c2466cafd13f9b022bd2ad": {
          "model_module": "@jupyter-widgets/base",
          "model_name": "LayoutModel",
          "state": {
            "_view_name": "LayoutView",
            "grid_template_rows": null,
            "right": null,
            "justify_content": null,
            "_view_module": "@jupyter-widgets/base",
            "overflow": null,
            "_model_module_version": "1.2.0",
            "_view_count": null,
            "flex_flow": null,
            "width": null,
            "min_width": null,
            "border": null,
            "align_items": null,
            "bottom": null,
            "_model_module": "@jupyter-widgets/base",
            "top": null,
            "grid_column": null,
            "overflow_y": null,
            "overflow_x": null,
            "grid_auto_flow": null,
            "grid_area": null,
            "grid_template_columns": null,
            "flex": null,
            "_model_name": "LayoutModel",
            "justify_items": null,
            "grid_row": null,
            "max_height": null,
            "align_content": null,
            "visibility": null,
            "align_self": null,
            "height": null,
            "min_height": null,
            "padding": null,
            "grid_auto_rows": null,
            "grid_gap": null,
            "max_width": null,
            "order": null,
            "_view_module_version": "1.2.0",
            "grid_template_areas": null,
            "object_position": null,
            "object_fit": null,
            "grid_auto_columns": null,
            "margin": null,
            "display": null,
            "left": null
          }
        },
        "ebcb5f40963048779abcaf4daa757da0": {
          "model_module": "@jupyter-widgets/controls",
          "model_name": "DescriptionStyleModel",
          "state": {
            "_view_name": "StyleView",
            "_model_name": "DescriptionStyleModel",
            "description_width": "",
            "_view_module": "@jupyter-widgets/base",
            "_model_module_version": "1.5.0",
            "_view_count": null,
            "_view_module_version": "1.2.0",
            "_model_module": "@jupyter-widgets/controls"
          }
        },
        "00b018e8c87d40fda6ce4210c069fc42": {
          "model_module": "@jupyter-widgets/base",
          "model_name": "LayoutModel",
          "state": {
            "_view_name": "LayoutView",
            "grid_template_rows": null,
            "right": null,
            "justify_content": null,
            "_view_module": "@jupyter-widgets/base",
            "overflow": null,
            "_model_module_version": "1.2.0",
            "_view_count": null,
            "flex_flow": null,
            "width": null,
            "min_width": null,
            "border": null,
            "align_items": null,
            "bottom": null,
            "_model_module": "@jupyter-widgets/base",
            "top": null,
            "grid_column": null,
            "overflow_y": null,
            "overflow_x": null,
            "grid_auto_flow": null,
            "grid_area": null,
            "grid_template_columns": null,
            "flex": null,
            "_model_name": "LayoutModel",
            "justify_items": null,
            "grid_row": null,
            "max_height": null,
            "align_content": null,
            "visibility": null,
            "align_self": null,
            "height": null,
            "min_height": null,
            "padding": null,
            "grid_auto_rows": null,
            "grid_gap": null,
            "max_width": null,
            "order": null,
            "_view_module_version": "1.2.0",
            "grid_template_areas": null,
            "object_position": null,
            "object_fit": null,
            "grid_auto_columns": null,
            "margin": null,
            "display": null,
            "left": null
          }
        },
        "40e0a9ff2f154625a4c6025cf3fccebc": {
          "model_module": "@jupyter-widgets/controls",
          "model_name": "HBoxModel",
          "state": {
            "_view_name": "HBoxView",
            "_dom_classes": [],
            "_model_name": "HBoxModel",
            "_view_module": "@jupyter-widgets/controls",
            "_model_module_version": "1.5.0",
            "_view_count": null,
            "_view_module_version": "1.5.0",
            "box_style": "",
            "layout": "IPY_MODEL_8a4bf294c82f4cc18cb6a66c2c01c7f3",
            "_model_module": "@jupyter-widgets/controls",
            "children": [
              "IPY_MODEL_269996b62366487985e9f984962dc9d8",
              "IPY_MODEL_319b7cd1d48148c08a07d9120c64b65d"
            ]
          }
        },
        "8a4bf294c82f4cc18cb6a66c2c01c7f3": {
          "model_module": "@jupyter-widgets/base",
          "model_name": "LayoutModel",
          "state": {
            "_view_name": "LayoutView",
            "grid_template_rows": null,
            "right": null,
            "justify_content": null,
            "_view_module": "@jupyter-widgets/base",
            "overflow": null,
            "_model_module_version": "1.2.0",
            "_view_count": null,
            "flex_flow": null,
            "width": null,
            "min_width": null,
            "border": null,
            "align_items": null,
            "bottom": null,
            "_model_module": "@jupyter-widgets/base",
            "top": null,
            "grid_column": null,
            "overflow_y": null,
            "overflow_x": null,
            "grid_auto_flow": null,
            "grid_area": null,
            "grid_template_columns": null,
            "flex": null,
            "_model_name": "LayoutModel",
            "justify_items": null,
            "grid_row": null,
            "max_height": null,
            "align_content": null,
            "visibility": null,
            "align_self": null,
            "height": null,
            "min_height": null,
            "padding": null,
            "grid_auto_rows": null,
            "grid_gap": null,
            "max_width": null,
            "order": null,
            "_view_module_version": "1.2.0",
            "grid_template_areas": null,
            "object_position": null,
            "object_fit": null,
            "grid_auto_columns": null,
            "margin": null,
            "display": null,
            "left": null
          }
        },
        "269996b62366487985e9f984962dc9d8": {
          "model_module": "@jupyter-widgets/controls",
          "model_name": "FloatProgressModel",
          "state": {
            "_view_name": "ProgressView",
            "style": "IPY_MODEL_df8210f46b0e4c31a1ea140b67a1ff59",
            "_dom_classes": [],
            "description": "Batches: 100%",
            "_model_name": "FloatProgressModel",
            "bar_style": "success",
            "max": 39,
            "_view_module": "@jupyter-widgets/controls",
            "_model_module_version": "1.5.0",
            "value": 39,
            "_view_count": null,
            "_view_module_version": "1.5.0",
            "orientation": "horizontal",
            "min": 0,
            "description_tooltip": null,
            "_model_module": "@jupyter-widgets/controls",
            "layout": "IPY_MODEL_12467a1e54274a1bba32dedfc3fb3f2c"
          }
        },
        "319b7cd1d48148c08a07d9120c64b65d": {
          "model_module": "@jupyter-widgets/controls",
          "model_name": "HTMLModel",
          "state": {
            "_view_name": "HTMLView",
            "style": "IPY_MODEL_14323e44688b463fbee8e42d16551a8a",
            "_dom_classes": [],
            "description": "",
            "_model_name": "HTMLModel",
            "placeholder": "​",
            "_view_module": "@jupyter-widgets/controls",
            "_model_module_version": "1.5.0",
            "value": " 39/39 [01:25&lt;00:00,  2.18s/it]",
            "_view_count": null,
            "_view_module_version": "1.5.0",
            "description_tooltip": null,
            "_model_module": "@jupyter-widgets/controls",
            "layout": "IPY_MODEL_2c4eb76246fc4a688ce04feb6204d275"
          }
        },
        "df8210f46b0e4c31a1ea140b67a1ff59": {
          "model_module": "@jupyter-widgets/controls",
          "model_name": "ProgressStyleModel",
          "state": {
            "_view_name": "StyleView",
            "_model_name": "ProgressStyleModel",
            "description_width": "initial",
            "_view_module": "@jupyter-widgets/base",
            "_model_module_version": "1.5.0",
            "_view_count": null,
            "_view_module_version": "1.2.0",
            "bar_color": null,
            "_model_module": "@jupyter-widgets/controls"
          }
        },
        "12467a1e54274a1bba32dedfc3fb3f2c": {
          "model_module": "@jupyter-widgets/base",
          "model_name": "LayoutModel",
          "state": {
            "_view_name": "LayoutView",
            "grid_template_rows": null,
            "right": null,
            "justify_content": null,
            "_view_module": "@jupyter-widgets/base",
            "overflow": null,
            "_model_module_version": "1.2.0",
            "_view_count": null,
            "flex_flow": null,
            "width": null,
            "min_width": null,
            "border": null,
            "align_items": null,
            "bottom": null,
            "_model_module": "@jupyter-widgets/base",
            "top": null,
            "grid_column": null,
            "overflow_y": null,
            "overflow_x": null,
            "grid_auto_flow": null,
            "grid_area": null,
            "grid_template_columns": null,
            "flex": null,
            "_model_name": "LayoutModel",
            "justify_items": null,
            "grid_row": null,
            "max_height": null,
            "align_content": null,
            "visibility": null,
            "align_self": null,
            "height": null,
            "min_height": null,
            "padding": null,
            "grid_auto_rows": null,
            "grid_gap": null,
            "max_width": null,
            "order": null,
            "_view_module_version": "1.2.0",
            "grid_template_areas": null,
            "object_position": null,
            "object_fit": null,
            "grid_auto_columns": null,
            "margin": null,
            "display": null,
            "left": null
          }
        },
        "14323e44688b463fbee8e42d16551a8a": {
          "model_module": "@jupyter-widgets/controls",
          "model_name": "DescriptionStyleModel",
          "state": {
            "_view_name": "StyleView",
            "_model_name": "DescriptionStyleModel",
            "description_width": "",
            "_view_module": "@jupyter-widgets/base",
            "_model_module_version": "1.5.0",
            "_view_count": null,
            "_view_module_version": "1.2.0",
            "_model_module": "@jupyter-widgets/controls"
          }
        },
        "2c4eb76246fc4a688ce04feb6204d275": {
          "model_module": "@jupyter-widgets/base",
          "model_name": "LayoutModel",
          "state": {
            "_view_name": "LayoutView",
            "grid_template_rows": null,
            "right": null,
            "justify_content": null,
            "_view_module": "@jupyter-widgets/base",
            "overflow": null,
            "_model_module_version": "1.2.0",
            "_view_count": null,
            "flex_flow": null,
            "width": null,
            "min_width": null,
            "border": null,
            "align_items": null,
            "bottom": null,
            "_model_module": "@jupyter-widgets/base",
            "top": null,
            "grid_column": null,
            "overflow_y": null,
            "overflow_x": null,
            "grid_auto_flow": null,
            "grid_area": null,
            "grid_template_columns": null,
            "flex": null,
            "_model_name": "LayoutModel",
            "justify_items": null,
            "grid_row": null,
            "max_height": null,
            "align_content": null,
            "visibility": null,
            "align_self": null,
            "height": null,
            "min_height": null,
            "padding": null,
            "grid_auto_rows": null,
            "grid_gap": null,
            "max_width": null,
            "order": null,
            "_view_module_version": "1.2.0",
            "grid_template_areas": null,
            "object_position": null,
            "object_fit": null,
            "grid_auto_columns": null,
            "margin": null,
            "display": null,
            "left": null
          }
        },
        "21bc5994a3b84a08b7d9ad3ac92d3177": {
          "model_module": "@jupyter-widgets/controls",
          "model_name": "HBoxModel",
          "state": {
            "_view_name": "HBoxView",
            "_dom_classes": [],
            "_model_name": "HBoxModel",
            "_view_module": "@jupyter-widgets/controls",
            "_model_module_version": "1.5.0",
            "_view_count": null,
            "_view_module_version": "1.5.0",
            "box_style": "",
            "layout": "IPY_MODEL_b963d34b9ac845f6948a392fbb616316",
            "_model_module": "@jupyter-widgets/controls",
            "children": [
              "IPY_MODEL_d6e9c4be1fe14d6699331ba66e3fa9ce",
              "IPY_MODEL_a18b2a85d9414a779d108a0a9df65189"
            ]
          }
        },
        "b963d34b9ac845f6948a392fbb616316": {
          "model_module": "@jupyter-widgets/base",
          "model_name": "LayoutModel",
          "state": {
            "_view_name": "LayoutView",
            "grid_template_rows": null,
            "right": null,
            "justify_content": null,
            "_view_module": "@jupyter-widgets/base",
            "overflow": null,
            "_model_module_version": "1.2.0",
            "_view_count": null,
            "flex_flow": null,
            "width": null,
            "min_width": null,
            "border": null,
            "align_items": null,
            "bottom": null,
            "_model_module": "@jupyter-widgets/base",
            "top": null,
            "grid_column": null,
            "overflow_y": null,
            "overflow_x": null,
            "grid_auto_flow": null,
            "grid_area": null,
            "grid_template_columns": null,
            "flex": null,
            "_model_name": "LayoutModel",
            "justify_items": null,
            "grid_row": null,
            "max_height": null,
            "align_content": null,
            "visibility": null,
            "align_self": null,
            "height": null,
            "min_height": null,
            "padding": null,
            "grid_auto_rows": null,
            "grid_gap": null,
            "max_width": null,
            "order": null,
            "_view_module_version": "1.2.0",
            "grid_template_areas": null,
            "object_position": null,
            "object_fit": null,
            "grid_auto_columns": null,
            "margin": null,
            "display": null,
            "left": null
          }
        },
        "d6e9c4be1fe14d6699331ba66e3fa9ce": {
          "model_module": "@jupyter-widgets/controls",
          "model_name": "FloatProgressModel",
          "state": {
            "_view_name": "ProgressView",
            "style": "IPY_MODEL_a66547779d964a649fe2cdf560b97489",
            "_dom_classes": [],
            "description": "Batches: 100%",
            "_model_name": "FloatProgressModel",
            "bar_style": "success",
            "max": 25,
            "_view_module": "@jupyter-widgets/controls",
            "_model_module_version": "1.5.0",
            "value": 25,
            "_view_count": null,
            "_view_module_version": "1.5.0",
            "orientation": "horizontal",
            "min": 0,
            "description_tooltip": null,
            "_model_module": "@jupyter-widgets/controls",
            "layout": "IPY_MODEL_4b5f94719eed462382adf00854fe3be1"
          }
        },
        "a18b2a85d9414a779d108a0a9df65189": {
          "model_module": "@jupyter-widgets/controls",
          "model_name": "HTMLModel",
          "state": {
            "_view_name": "HTMLView",
            "style": "IPY_MODEL_c20cc3f7fef24714af203d0c838c8a25",
            "_dom_classes": [],
            "description": "",
            "_model_name": "HTMLModel",
            "placeholder": "​",
            "_view_module": "@jupyter-widgets/controls",
            "_model_module_version": "1.5.0",
            "value": " 25/25 [00:10&lt;00:00,  2.33it/s]",
            "_view_count": null,
            "_view_module_version": "1.5.0",
            "description_tooltip": null,
            "_model_module": "@jupyter-widgets/controls",
            "layout": "IPY_MODEL_d2efb491a7784cd2b304e707819170be"
          }
        },
        "a66547779d964a649fe2cdf560b97489": {
          "model_module": "@jupyter-widgets/controls",
          "model_name": "ProgressStyleModel",
          "state": {
            "_view_name": "StyleView",
            "_model_name": "ProgressStyleModel",
            "description_width": "initial",
            "_view_module": "@jupyter-widgets/base",
            "_model_module_version": "1.5.0",
            "_view_count": null,
            "_view_module_version": "1.2.0",
            "bar_color": null,
            "_model_module": "@jupyter-widgets/controls"
          }
        },
        "4b5f94719eed462382adf00854fe3be1": {
          "model_module": "@jupyter-widgets/base",
          "model_name": "LayoutModel",
          "state": {
            "_view_name": "LayoutView",
            "grid_template_rows": null,
            "right": null,
            "justify_content": null,
            "_view_module": "@jupyter-widgets/base",
            "overflow": null,
            "_model_module_version": "1.2.0",
            "_view_count": null,
            "flex_flow": null,
            "width": null,
            "min_width": null,
            "border": null,
            "align_items": null,
            "bottom": null,
            "_model_module": "@jupyter-widgets/base",
            "top": null,
            "grid_column": null,
            "overflow_y": null,
            "overflow_x": null,
            "grid_auto_flow": null,
            "grid_area": null,
            "grid_template_columns": null,
            "flex": null,
            "_model_name": "LayoutModel",
            "justify_items": null,
            "grid_row": null,
            "max_height": null,
            "align_content": null,
            "visibility": null,
            "align_self": null,
            "height": null,
            "min_height": null,
            "padding": null,
            "grid_auto_rows": null,
            "grid_gap": null,
            "max_width": null,
            "order": null,
            "_view_module_version": "1.2.0",
            "grid_template_areas": null,
            "object_position": null,
            "object_fit": null,
            "grid_auto_columns": null,
            "margin": null,
            "display": null,
            "left": null
          }
        },
        "c20cc3f7fef24714af203d0c838c8a25": {
          "model_module": "@jupyter-widgets/controls",
          "model_name": "DescriptionStyleModel",
          "state": {
            "_view_name": "StyleView",
            "_model_name": "DescriptionStyleModel",
            "description_width": "",
            "_view_module": "@jupyter-widgets/base",
            "_model_module_version": "1.5.0",
            "_view_count": null,
            "_view_module_version": "1.2.0",
            "_model_module": "@jupyter-widgets/controls"
          }
        },
        "d2efb491a7784cd2b304e707819170be": {
          "model_module": "@jupyter-widgets/base",
          "model_name": "LayoutModel",
          "state": {
            "_view_name": "LayoutView",
            "grid_template_rows": null,
            "right": null,
            "justify_content": null,
            "_view_module": "@jupyter-widgets/base",
            "overflow": null,
            "_model_module_version": "1.2.0",
            "_view_count": null,
            "flex_flow": null,
            "width": null,
            "min_width": null,
            "border": null,
            "align_items": null,
            "bottom": null,
            "_model_module": "@jupyter-widgets/base",
            "top": null,
            "grid_column": null,
            "overflow_y": null,
            "overflow_x": null,
            "grid_auto_flow": null,
            "grid_area": null,
            "grid_template_columns": null,
            "flex": null,
            "_model_name": "LayoutModel",
            "justify_items": null,
            "grid_row": null,
            "max_height": null,
            "align_content": null,
            "visibility": null,
            "align_self": null,
            "height": null,
            "min_height": null,
            "padding": null,
            "grid_auto_rows": null,
            "grid_gap": null,
            "max_width": null,
            "order": null,
            "_view_module_version": "1.2.0",
            "grid_template_areas": null,
            "object_position": null,
            "object_fit": null,
            "grid_auto_columns": null,
            "margin": null,
            "display": null,
            "left": null
          }
        },
        "a90461d1e0af48879ca5ef2ada85e81f": {
          "model_module": "@jupyter-widgets/controls",
          "model_name": "HBoxModel",
          "state": {
            "_view_name": "HBoxView",
            "_dom_classes": [],
            "_model_name": "HBoxModel",
            "_view_module": "@jupyter-widgets/controls",
            "_model_module_version": "1.5.0",
            "_view_count": null,
            "_view_module_version": "1.5.0",
            "box_style": "",
            "layout": "IPY_MODEL_094a146dcee9429bb9d1f4128b2a1446",
            "_model_module": "@jupyter-widgets/controls",
            "children": [
              "IPY_MODEL_876b8535ea304c4c81a6ad2b1071062e",
              "IPY_MODEL_8a42a86e009e40f39ceef31781a12a7e"
            ]
          }
        },
        "094a146dcee9429bb9d1f4128b2a1446": {
          "model_module": "@jupyter-widgets/base",
          "model_name": "LayoutModel",
          "state": {
            "_view_name": "LayoutView",
            "grid_template_rows": null,
            "right": null,
            "justify_content": null,
            "_view_module": "@jupyter-widgets/base",
            "overflow": null,
            "_model_module_version": "1.2.0",
            "_view_count": null,
            "flex_flow": null,
            "width": null,
            "min_width": null,
            "border": null,
            "align_items": null,
            "bottom": null,
            "_model_module": "@jupyter-widgets/base",
            "top": null,
            "grid_column": null,
            "overflow_y": null,
            "overflow_x": null,
            "grid_auto_flow": null,
            "grid_area": null,
            "grid_template_columns": null,
            "flex": null,
            "_model_name": "LayoutModel",
            "justify_items": null,
            "grid_row": null,
            "max_height": null,
            "align_content": null,
            "visibility": null,
            "align_self": null,
            "height": null,
            "min_height": null,
            "padding": null,
            "grid_auto_rows": null,
            "grid_gap": null,
            "max_width": null,
            "order": null,
            "_view_module_version": "1.2.0",
            "grid_template_areas": null,
            "object_position": null,
            "object_fit": null,
            "grid_auto_columns": null,
            "margin": null,
            "display": null,
            "left": null
          }
        },
        "876b8535ea304c4c81a6ad2b1071062e": {
          "model_module": "@jupyter-widgets/controls",
          "model_name": "FloatProgressModel",
          "state": {
            "_view_name": "ProgressView",
            "style": "IPY_MODEL_e427ae75ef814dc2b05704033785c171",
            "_dom_classes": [],
            "description": "Batches: 100%",
            "_model_name": "FloatProgressModel",
            "bar_style": "success",
            "max": 25,
            "_view_module": "@jupyter-widgets/controls",
            "_model_module_version": "1.5.0",
            "value": 25,
            "_view_count": null,
            "_view_module_version": "1.5.0",
            "orientation": "horizontal",
            "min": 0,
            "description_tooltip": null,
            "_model_module": "@jupyter-widgets/controls",
            "layout": "IPY_MODEL_98a6e8b3f7f64ba7b8c97e5cdd07ebfb"
          }
        },
        "8a42a86e009e40f39ceef31781a12a7e": {
          "model_module": "@jupyter-widgets/controls",
          "model_name": "HTMLModel",
          "state": {
            "_view_name": "HTMLView",
            "style": "IPY_MODEL_e6884a6873664ce796d37bac28134c12",
            "_dom_classes": [],
            "description": "",
            "_model_name": "HTMLModel",
            "placeholder": "​",
            "_view_module": "@jupyter-widgets/controls",
            "_model_module_version": "1.5.0",
            "value": " 25/25 [02:22&lt;00:00,  5.69s/it]",
            "_view_count": null,
            "_view_module_version": "1.5.0",
            "description_tooltip": null,
            "_model_module": "@jupyter-widgets/controls",
            "layout": "IPY_MODEL_3b6c7a51a2ef4e2c850fa81de0e5a1a9"
          }
        },
        "e427ae75ef814dc2b05704033785c171": {
          "model_module": "@jupyter-widgets/controls",
          "model_name": "ProgressStyleModel",
          "state": {
            "_view_name": "StyleView",
            "_model_name": "ProgressStyleModel",
            "description_width": "initial",
            "_view_module": "@jupyter-widgets/base",
            "_model_module_version": "1.5.0",
            "_view_count": null,
            "_view_module_version": "1.2.0",
            "bar_color": null,
            "_model_module": "@jupyter-widgets/controls"
          }
        },
        "98a6e8b3f7f64ba7b8c97e5cdd07ebfb": {
          "model_module": "@jupyter-widgets/base",
          "model_name": "LayoutModel",
          "state": {
            "_view_name": "LayoutView",
            "grid_template_rows": null,
            "right": null,
            "justify_content": null,
            "_view_module": "@jupyter-widgets/base",
            "overflow": null,
            "_model_module_version": "1.2.0",
            "_view_count": null,
            "flex_flow": null,
            "width": null,
            "min_width": null,
            "border": null,
            "align_items": null,
            "bottom": null,
            "_model_module": "@jupyter-widgets/base",
            "top": null,
            "grid_column": null,
            "overflow_y": null,
            "overflow_x": null,
            "grid_auto_flow": null,
            "grid_area": null,
            "grid_template_columns": null,
            "flex": null,
            "_model_name": "LayoutModel",
            "justify_items": null,
            "grid_row": null,
            "max_height": null,
            "align_content": null,
            "visibility": null,
            "align_self": null,
            "height": null,
            "min_height": null,
            "padding": null,
            "grid_auto_rows": null,
            "grid_gap": null,
            "max_width": null,
            "order": null,
            "_view_module_version": "1.2.0",
            "grid_template_areas": null,
            "object_position": null,
            "object_fit": null,
            "grid_auto_columns": null,
            "margin": null,
            "display": null,
            "left": null
          }
        },
        "e6884a6873664ce796d37bac28134c12": {
          "model_module": "@jupyter-widgets/controls",
          "model_name": "DescriptionStyleModel",
          "state": {
            "_view_name": "StyleView",
            "_model_name": "DescriptionStyleModel",
            "description_width": "",
            "_view_module": "@jupyter-widgets/base",
            "_model_module_version": "1.5.0",
            "_view_count": null,
            "_view_module_version": "1.2.0",
            "_model_module": "@jupyter-widgets/controls"
          }
        },
        "3b6c7a51a2ef4e2c850fa81de0e5a1a9": {
          "model_module": "@jupyter-widgets/base",
          "model_name": "LayoutModel",
          "state": {
            "_view_name": "LayoutView",
            "grid_template_rows": null,
            "right": null,
            "justify_content": null,
            "_view_module": "@jupyter-widgets/base",
            "overflow": null,
            "_model_module_version": "1.2.0",
            "_view_count": null,
            "flex_flow": null,
            "width": null,
            "min_width": null,
            "border": null,
            "align_items": null,
            "bottom": null,
            "_model_module": "@jupyter-widgets/base",
            "top": null,
            "grid_column": null,
            "overflow_y": null,
            "overflow_x": null,
            "grid_auto_flow": null,
            "grid_area": null,
            "grid_template_columns": null,
            "flex": null,
            "_model_name": "LayoutModel",
            "justify_items": null,
            "grid_row": null,
            "max_height": null,
            "align_content": null,
            "visibility": null,
            "align_self": null,
            "height": null,
            "min_height": null,
            "padding": null,
            "grid_auto_rows": null,
            "grid_gap": null,
            "max_width": null,
            "order": null,
            "_view_module_version": "1.2.0",
            "grid_template_areas": null,
            "object_position": null,
            "object_fit": null,
            "grid_auto_columns": null,
            "margin": null,
            "display": null,
            "left": null
          }
        },
        "5effca69e81242b19ca4e7b754611d1f": {
          "model_module": "@jupyter-widgets/controls",
          "model_name": "HBoxModel",
          "state": {
            "_view_name": "HBoxView",
            "_dom_classes": [],
            "_model_name": "HBoxModel",
            "_view_module": "@jupyter-widgets/controls",
            "_model_module_version": "1.5.0",
            "_view_count": null,
            "_view_module_version": "1.5.0",
            "box_style": "",
            "layout": "IPY_MODEL_00ee48eee18f4e9e8192cd2f1090bca3",
            "_model_module": "@jupyter-widgets/controls",
            "children": [
              "IPY_MODEL_03b3ab7e4d6e4628888829b5e1c17d8e",
              "IPY_MODEL_ae61e0a25535401e8bff894f75e6df72"
            ]
          }
        },
        "00ee48eee18f4e9e8192cd2f1090bca3": {
          "model_module": "@jupyter-widgets/base",
          "model_name": "LayoutModel",
          "state": {
            "_view_name": "LayoutView",
            "grid_template_rows": null,
            "right": null,
            "justify_content": null,
            "_view_module": "@jupyter-widgets/base",
            "overflow": null,
            "_model_module_version": "1.2.0",
            "_view_count": null,
            "flex_flow": null,
            "width": null,
            "min_width": null,
            "border": null,
            "align_items": null,
            "bottom": null,
            "_model_module": "@jupyter-widgets/base",
            "top": null,
            "grid_column": null,
            "overflow_y": null,
            "overflow_x": null,
            "grid_auto_flow": null,
            "grid_area": null,
            "grid_template_columns": null,
            "flex": null,
            "_model_name": "LayoutModel",
            "justify_items": null,
            "grid_row": null,
            "max_height": null,
            "align_content": null,
            "visibility": null,
            "align_self": null,
            "height": null,
            "min_height": null,
            "padding": null,
            "grid_auto_rows": null,
            "grid_gap": null,
            "max_width": null,
            "order": null,
            "_view_module_version": "1.2.0",
            "grid_template_areas": null,
            "object_position": null,
            "object_fit": null,
            "grid_auto_columns": null,
            "margin": null,
            "display": null,
            "left": null
          }
        },
        "03b3ab7e4d6e4628888829b5e1c17d8e": {
          "model_module": "@jupyter-widgets/controls",
          "model_name": "FloatProgressModel",
          "state": {
            "_view_name": "ProgressView",
            "style": "IPY_MODEL_ad348359665042098e4f11776bc60630",
            "_dom_classes": [],
            "description": "Batches: 100%",
            "_model_name": "FloatProgressModel",
            "bar_style": "success",
            "max": 25,
            "_view_module": "@jupyter-widgets/controls",
            "_model_module_version": "1.5.0",
            "value": 25,
            "_view_count": null,
            "_view_module_version": "1.5.0",
            "orientation": "horizontal",
            "min": 0,
            "description_tooltip": null,
            "_model_module": "@jupyter-widgets/controls",
            "layout": "IPY_MODEL_a5816a37acc9461e94f6f86ccafb73e3"
          }
        },
        "ae61e0a25535401e8bff894f75e6df72": {
          "model_module": "@jupyter-widgets/controls",
          "model_name": "HTMLModel",
          "state": {
            "_view_name": "HTMLView",
            "style": "IPY_MODEL_961518cb21a14dbcb0556040ce9981f6",
            "_dom_classes": [],
            "description": "",
            "_model_name": "HTMLModel",
            "placeholder": "​",
            "_view_module": "@jupyter-widgets/controls",
            "_model_module_version": "1.5.0",
            "value": " 25/25 [02:09&lt;00:00,  5.17s/it]",
            "_view_count": null,
            "_view_module_version": "1.5.0",
            "description_tooltip": null,
            "_model_module": "@jupyter-widgets/controls",
            "layout": "IPY_MODEL_5d9867f1523e497aae4eed652e30d574"
          }
        },
        "ad348359665042098e4f11776bc60630": {
          "model_module": "@jupyter-widgets/controls",
          "model_name": "ProgressStyleModel",
          "state": {
            "_view_name": "StyleView",
            "_model_name": "ProgressStyleModel",
            "description_width": "initial",
            "_view_module": "@jupyter-widgets/base",
            "_model_module_version": "1.5.0",
            "_view_count": null,
            "_view_module_version": "1.2.0",
            "bar_color": null,
            "_model_module": "@jupyter-widgets/controls"
          }
        },
        "a5816a37acc9461e94f6f86ccafb73e3": {
          "model_module": "@jupyter-widgets/base",
          "model_name": "LayoutModel",
          "state": {
            "_view_name": "LayoutView",
            "grid_template_rows": null,
            "right": null,
            "justify_content": null,
            "_view_module": "@jupyter-widgets/base",
            "overflow": null,
            "_model_module_version": "1.2.0",
            "_view_count": null,
            "flex_flow": null,
            "width": null,
            "min_width": null,
            "border": null,
            "align_items": null,
            "bottom": null,
            "_model_module": "@jupyter-widgets/base",
            "top": null,
            "grid_column": null,
            "overflow_y": null,
            "overflow_x": null,
            "grid_auto_flow": null,
            "grid_area": null,
            "grid_template_columns": null,
            "flex": null,
            "_model_name": "LayoutModel",
            "justify_items": null,
            "grid_row": null,
            "max_height": null,
            "align_content": null,
            "visibility": null,
            "align_self": null,
            "height": null,
            "min_height": null,
            "padding": null,
            "grid_auto_rows": null,
            "grid_gap": null,
            "max_width": null,
            "order": null,
            "_view_module_version": "1.2.0",
            "grid_template_areas": null,
            "object_position": null,
            "object_fit": null,
            "grid_auto_columns": null,
            "margin": null,
            "display": null,
            "left": null
          }
        },
        "961518cb21a14dbcb0556040ce9981f6": {
          "model_module": "@jupyter-widgets/controls",
          "model_name": "DescriptionStyleModel",
          "state": {
            "_view_name": "StyleView",
            "_model_name": "DescriptionStyleModel",
            "description_width": "",
            "_view_module": "@jupyter-widgets/base",
            "_model_module_version": "1.5.0",
            "_view_count": null,
            "_view_module_version": "1.2.0",
            "_model_module": "@jupyter-widgets/controls"
          }
        },
        "5d9867f1523e497aae4eed652e30d574": {
          "model_module": "@jupyter-widgets/base",
          "model_name": "LayoutModel",
          "state": {
            "_view_name": "LayoutView",
            "grid_template_rows": null,
            "right": null,
            "justify_content": null,
            "_view_module": "@jupyter-widgets/base",
            "overflow": null,
            "_model_module_version": "1.2.0",
            "_view_count": null,
            "flex_flow": null,
            "width": null,
            "min_width": null,
            "border": null,
            "align_items": null,
            "bottom": null,
            "_model_module": "@jupyter-widgets/base",
            "top": null,
            "grid_column": null,
            "overflow_y": null,
            "overflow_x": null,
            "grid_auto_flow": null,
            "grid_area": null,
            "grid_template_columns": null,
            "flex": null,
            "_model_name": "LayoutModel",
            "justify_items": null,
            "grid_row": null,
            "max_height": null,
            "align_content": null,
            "visibility": null,
            "align_self": null,
            "height": null,
            "min_height": null,
            "padding": null,
            "grid_auto_rows": null,
            "grid_gap": null,
            "max_width": null,
            "order": null,
            "_view_module_version": "1.2.0",
            "grid_template_areas": null,
            "object_position": null,
            "object_fit": null,
            "grid_auto_columns": null,
            "margin": null,
            "display": null,
            "left": null
          }
        }
      }
    }
  },
  "cells": [
    {
      "cell_type": "markdown",
      "metadata": {
        "id": "view-in-github",
        "colab_type": "text"
      },
      "source": [
        "<a href=\"https://colab.research.google.com/github/langmusi/Predictive-Modeling/blob/main/Topic_dbscan.ipynb\" target=\"_parent\"><img src=\"https://colab.research.google.com/assets/colab-badge.svg\" alt=\"Open In Colab\"/></a>"
      ]
    },
    {
      "cell_type": "code",
      "metadata": {
        "id": "sIlPm4VM1UNa"
      },
      "source": [
        "!pip install bertopic\n",
        "!pip install bertopic[visualization]"
      ],
      "execution_count": null,
      "outputs": []
    },
    {
      "cell_type": "code",
      "metadata": {
        "id": "ggSz3uJo2o5h"
      },
      "source": [
        "from bertopic import BERTopic"
      ],
      "execution_count": 2,
      "outputs": []
    },
    {
      "cell_type": "code",
      "metadata": {
        "id": "hh8zplMw1aZ6"
      },
      "source": [
        "import pandas as pd\n",
        "import numpy as np\n",
        "import re\n",
        "\n",
        "import matplotlib.pyplot as plt"
      ],
      "execution_count": 4,
      "outputs": []
    },
    {
      "cell_type": "code",
      "metadata": {
        "id": "Tzj-GaXEfuwY"
      },
      "source": [
        "from IPython.core.interactiveshell import InteractiveShell\n",
        "InteractiveShell.ast_node_interactivity = \"all\""
      ],
      "execution_count": 5,
      "outputs": []
    },
    {
      "cell_type": "markdown",
      "metadata": {
        "id": "3Z2lMu1TblRB"
      },
      "source": [
        "## Reading Data"
      ]
    },
    {
      "cell_type": "code",
      "metadata": {
        "id": "l_UNBzEW1QoL"
      },
      "source": [
        "df = pd.read_csv('/content/open_dmg_4.csv', sep = ';')   # open_dmg_subset_eventcode.csv  # open_dmg_2\n",
        "print(df.shape)\n",
        "df.head()"
      ],
      "execution_count": null,
      "outputs": []
    },
    {
      "cell_type": "code",
      "metadata": {
        "id": "0iMcIVeuqs66"
      },
      "source": [
        "df.loc[df.Text == '  ']\n",
        "#df.loc[[2]]\n",
        "#df['Text'].iloc[2]"
      ],
      "execution_count": null,
      "outputs": []
    },
    {
      "cell_type": "code",
      "metadata": {
        "id": "NyDYPparxFty"
      },
      "source": [
        "df = df.loc[df.Text != '  ']\n",
        "df.shape\n",
        "df"
      ],
      "execution_count": null,
      "outputs": []
    },
    {
      "cell_type": "code",
      "metadata": {
        "id": "nVeLZj3B7-dY"
      },
      "source": [
        "text = df['Text'].tolist()"
      ],
      "execution_count": 8,
      "outputs": []
    },
    {
      "cell_type": "markdown",
      "metadata": {
        "id": "lYhAv8nW07_t"
      },
      "source": [
        "### Checking Max Length of the Sentences"
      ]
    },
    {
      "cell_type": "code",
      "metadata": {
        "colab": {
          "base_uri": "https://localhost:8080/",
          "height": 131,
          "referenced_widgets": [
            "4d49b0616d7c443393db493083baf04b",
            "68da6b0a99e042eeb95b5f69dd25f400",
            "1222e332ad954802993da8a1bc470e54",
            "632207a19b924aa7aa9c6f388077de86",
            "a16443e07bbb44548bf57c73f85125bb",
            "7d86a270bdbe43f888c394272b2d3eb4",
            "131d67a7626a43f7930d521d28b4c8c2",
            "18ee15eef2514108b4faa5dd84c8ae1f",
            "61463548e75744479adaeab28b533b1a",
            "348fdab663874982b50610b19556022a",
            "6a4a5b400072483091fc1a371ba3fae8",
            "39dae23dd99049e8a1fb44fcaf044195",
            "d8f61c67cbb74583a9d473e14aeff0c5",
            "97d9304822af416ebda9fc99aa2da0be",
            "973acd6b168f4b84bd5da6d43b03a679",
            "07d89222be3c4e0e80fb27248e0896a9"
          ]
        },
        "id": "pI9bSoz_0gyu",
        "outputId": "cbd1cb37-3f5e-43be-cbd6-f14be59fb6d9"
      },
      "source": [
        "from transformers import BertTokenizer\n",
        "\n",
        "tokenizer = BertTokenizer.from_pretrained('KB/electra-small-swedish-cased-generator')\n",
        "max_len = 0\n",
        "\n",
        "# For every sentence...\n",
        "for sent in text:\n",
        "\n",
        "    # Tokenize the text and add `[CLS]` and `[SEP]` tokens.\n",
        "    input_ids = tokenizer.encode(sent, add_special_tokens=True)\n",
        "\n",
        "    # Update the maximum sentence length.\n",
        "    max_len = max(max_len, len(input_ids))\n",
        "    \n",
        "    # Update the minimum sentence length\n",
        "\n",
        "print('Max sentence length: ', max_len)"
      ],
      "execution_count": 9,
      "outputs": [
        {
          "output_type": "display_data",
          "data": {
            "application/vnd.jupyter.widget-view+json": {
              "model_id": "4d49b0616d7c443393db493083baf04b",
              "version_minor": 0,
              "version_major": 2
            },
            "text/plain": [
              "HBox(children=(FloatProgress(value=0.0, description='Downloading', max=399162.0, style=ProgressStyle(descripti…"
            ]
          },
          "metadata": {
            "tags": []
          }
        },
        {
          "output_type": "stream",
          "text": [
            "\n"
          ],
          "name": "stdout"
        },
        {
          "output_type": "display_data",
          "data": {
            "application/vnd.jupyter.widget-view+json": {
              "model_id": "61463548e75744479adaeab28b533b1a",
              "version_minor": 0,
              "version_major": 2
            },
            "text/plain": [
              "HBox(children=(FloatProgress(value=0.0, description='Downloading', max=183.0, style=ProgressStyle(description_…"
            ]
          },
          "metadata": {
            "tags": []
          }
        },
        {
          "output_type": "stream",
          "text": [
            "\n",
            "Max sentence length:  158\n"
          ],
          "name": "stdout"
        }
      ]
    },
    {
      "cell_type": "markdown",
      "metadata": {
        "id": "piaIasUULe9F"
      },
      "source": [
        "# Topic Modeling"
      ]
    },
    {
      "cell_type": "code",
      "metadata": {
        "id": "ZC0l299P1rxS"
      },
      "source": [
        "#topic_model = BERTopic(embedding_model=model, calculate_probabilities=True, nr_topics=\"auto\") \n",
        "#topic_model = BERTopic(embedding_model=\"KB/bert-base-swedish-cased\", calculate_probabilities=True, nr_topics = 30) \n",
        "# model\n",
        "\n",
        "# af-ai-center/bert-large-swedish-uncased\n",
        "# KB/electra-small-swedish-cased-generator\n",
        "topic_model = BERTopic(embedding_model=model, calculate_probabilities=True, nr_topics=15) "
      ],
      "execution_count": null,
      "outputs": []
    },
    {
      "cell_type": "code",
      "metadata": {
        "id": "_DpyaSW08ID5"
      },
      "source": [
        "topics, probs = topic_model.fit_transform(text)"
      ],
      "execution_count": null,
      "outputs": []
    },
    {
      "cell_type": "code",
      "metadata": {
        "id": "Fly-QwSd0C2X"
      },
      "source": [
        "# Further reduce topics\n",
        "new_topics, new_probs = topic_model.reduce_topics(text, topics, probabilities=probs, nr_topics=30)"
      ],
      "execution_count": null,
      "outputs": []
    },
    {
      "cell_type": "code",
      "metadata": {
        "id": "Xsol9ZL98wcJ"
      },
      "source": [
        "topic_freq = topic_model.get_topic_freq()\n",
        "outliers = topic_freq['Count'][topic_freq['Topic']==-1].iloc[0]\n",
        "print(f\"{outliers} texts have not been classified\")\n",
        "print(f\"The other {topic_freq['Count'].sum() - outliers} texts are {topic_freq['Topic'].shape[0]-1} topics\")"
      ],
      "execution_count": null,
      "outputs": []
    },
    {
      "cell_type": "code",
      "metadata": {
        "id": "1aR4sxwK9AQq"
      },
      "source": [
        "topic_freq "
      ],
      "execution_count": null,
      "outputs": []
    },
    {
      "cell_type": "code",
      "metadata": {
        "id": "GAZSLcXZemGW"
      },
      "source": [
        "df_sub_dat_eventcode = df.copy()\n",
        "print(df_sub_dat_eventcode.shape)\n",
        "# df_whole_dat.drop(\"Text\", axis=1, inplace=True)\n",
        "# df_whole_dat.shape"
      ],
      "execution_count": null,
      "outputs": []
    },
    {
      "cell_type": "code",
      "metadata": {
        "id": "lyZtOJK09FKg"
      },
      "source": [
        "#len(topics)\n",
        "df_whole_dat['kb_sv_base_Topics'] = topics\n",
        "#df_whole_dat.drop('Topics', axis=1, inplace=True)\n",
        "df_whole_dat.head()"
      ],
      "execution_count": null,
      "outputs": []
    },
    {
      "cell_type": "code",
      "metadata": {
        "id": "knXuliXV9OPo"
      },
      "source": [
        "df_sub_dat_eventcode.to_csv('./bert_topics_brakeSystem_subdat_eventcode_allmodels.csv',\n",
        "                         decimal = \",\", header = True, index = False, sep = \";\", encoding = \"utf-8-sig\")"
      ],
      "execution_count": null,
      "outputs": []
    },
    {
      "cell_type": "code",
      "metadata": {
        "id": "c3v5sTmSo8Vq"
      },
      "source": [
        "df_sub_dat_eventcode['roberta_Topics'] = topics\n",
        "#df_whole_dat.drop('Topics', axis=1, inplace=True)\n",
        "df_sub_dat_eventcode.head()"
      ],
      "execution_count": null,
      "outputs": []
    },
    {
      "cell_type": "markdown",
      "metadata": {
        "id": "eLEhKaN8Loj-"
      },
      "source": [
        "# HDBSCAN"
      ]
    },
    {
      "cell_type": "markdown",
      "metadata": {
        "id": "iQUc7W8dgx3I"
      },
      "source": [
        "### SentenceTransformers Sentence-embedding"
      ]
    },
    {
      "cell_type": "code",
      "metadata": {
        "id": "obOFu_gSNHFb"
      },
      "source": [
        "!pip install -U sentence-transformers"
      ],
      "execution_count": null,
      "outputs": []
    },
    {
      "cell_type": "code",
      "metadata": {
        "id": "uHYx3l0GNKoJ"
      },
      "source": [
        "from sentence_transformers import SentenceTransformer"
      ],
      "execution_count": 10,
      "outputs": []
    },
    {
      "cell_type": "code",
      "metadata": {
        "colab": {
          "base_uri": "https://localhost:8080/",
          "height": 298,
          "referenced_widgets": [
            "be642e9ec2074e8da7ece33528de22d3",
            "700df35dab73424c956f71fd38899ade",
            "191f0114346846779df9afc311d6e5a2",
            "652b6b95b23049fcb8c7fa006686a6d4",
            "a6c7dfe98f5948eb9d3bc77881e2dec9",
            "ef9c25e93d4a41b5bf214ff0bba8cfdc",
            "85ce21306c7549d7bd5e62a7c6d461f4",
            "cf8c86e425704e52ab803c1d0fbc54cb",
            "98ad8f77de4b4722a01b3c83a1a6d078",
            "62cbc5e4d83444c49778c6479883f246",
            "d13b4b43a5234406bd86d5eedb1195e6",
            "0660e9ff4e974e2db102bff3a2a58fa6",
            "87b0f59a437b46c1a3464f2686c12869",
            "03c4e80c0c80497e812a7a2c94341e7a",
            "b05a270553ed41bc96c64a375db52b69",
            "d965087e7e29481793cd388bed19b375",
            "b76916c1b8ea4a2b8be5ba3f47e969c4",
            "cea29843af834dcbbcd56e2a2d18f185",
            "4bfdee6b5eaa4384bca1aec5f0a17de9",
            "a320e3f956ca4065a3b58a956ac133e8",
            "2060898c08c54f0ca0e6749d40c85e09",
            "5e4c29caf5c2466cafd13f9b022bd2ad",
            "ebcb5f40963048779abcaf4daa757da0",
            "00b018e8c87d40fda6ce4210c069fc42"
          ]
        },
        "id": "VTKvXOJfNTRz",
        "outputId": "a4f17c95-824f-4e4f-9419-a5141f255f6f"
      },
      "source": [
        "#topic_model = BERTopic(embedding_model=model, calculate_probabilities=True, nr_topics=\"auto\") \n",
        "#topic_model = BERTopic(embedding_model=\"KB/bert-base-swedish-cased\", calculate_probabilities=True, nr_topics = 30) \n",
        "# model\n",
        "\n",
        "# af-ai-center/bert-large-swedish-uncased\n",
        "# KB/electra-small-swedish-cased-generator\n",
        "\n",
        "model_st = SentenceTransformer(\"af-ai-center/bert-large-swedish-uncased\")  # stsb-xlm-r-multilingual"
      ],
      "execution_count": null,
      "outputs": [
        {
          "output_type": "stream",
          "text": [
            "Exception when trying to download http://sbert.net/models/af-ai-center/bert-large-swedish-uncased.zip. Response 404\n",
            "SentenceTransformer-Model http://sbert.net/models/af-ai-center/bert-large-swedish-uncased.zip not found. Try to create it from scratch\n",
            "Try to create Transformer Model af-ai-center/bert-large-swedish-uncased with mean pooling\n"
          ],
          "name": "stderr"
        },
        {
          "output_type": "display_data",
          "data": {
            "application/vnd.jupyter.widget-view+json": {
              "model_id": "be642e9ec2074e8da7ece33528de22d3",
              "version_minor": 0,
              "version_major": 2
            },
            "text/plain": [
              "HBox(children=(FloatProgress(value=0.0, description='Downloading', max=434.0, style=ProgressStyle(description_…"
            ]
          },
          "metadata": {
            "tags": []
          }
        },
        {
          "output_type": "stream",
          "text": [
            "\n"
          ],
          "name": "stdout"
        },
        {
          "output_type": "display_data",
          "data": {
            "application/vnd.jupyter.widget-view+json": {
              "model_id": "98ad8f77de4b4722a01b3c83a1a6d078",
              "version_minor": 0,
              "version_major": 2
            },
            "text/plain": [
              "HBox(children=(FloatProgress(value=0.0, description='Downloading', max=1344999751.0, style=ProgressStyle(descr…"
            ]
          },
          "metadata": {
            "tags": []
          }
        },
        {
          "output_type": "stream",
          "text": [
            "\n"
          ],
          "name": "stdout"
        },
        {
          "output_type": "stream",
          "text": [
            "Some weights of the model checkpoint at af-ai-center/bert-large-swedish-uncased were not used when initializing BertModel: ['cls.predictions.transform.dense.weight', 'cls.seq_relationship.weight', 'cls.seq_relationship.bias', 'cls.predictions.transform.dense.bias', 'cls.predictions.transform.LayerNorm.bias', 'cls.predictions.bias', 'cls.predictions.transform.LayerNorm.weight', 'cls.predictions.decoder.weight']\n",
            "- This IS expected if you are initializing BertModel from the checkpoint of a model trained on another task or with another architecture (e.g. initializing a BertForSequenceClassification model from a BertForPreTraining model).\n",
            "- This IS NOT expected if you are initializing BertModel from the checkpoint of a model that you expect to be exactly identical (initializing a BertForSequenceClassification model from a BertForSequenceClassification model).\n"
          ],
          "name": "stderr"
        },
        {
          "output_type": "display_data",
          "data": {
            "application/vnd.jupyter.widget-view+json": {
              "model_id": "b76916c1b8ea4a2b8be5ba3f47e969c4",
              "version_minor": 0,
              "version_major": 2
            },
            "text/plain": [
              "HBox(children=(FloatProgress(value=0.0, description='Downloading', max=254112.0, style=ProgressStyle(descripti…"
            ]
          },
          "metadata": {
            "tags": []
          }
        },
        {
          "output_type": "stream",
          "text": [
            "\n"
          ],
          "name": "stdout"
        }
      ]
    },
    {
      "cell_type": "code",
      "metadata": {
        "id": "Zhl58wkezJKB",
        "colab": {
          "base_uri": "https://localhost:8080/"
        },
        "outputId": "edd1ecd3-14a6-42a0-8310-797912c5006f"
      },
      "source": [
        "print(model_st.max_seq_length)"
      ],
      "execution_count": null,
      "outputs": [
        {
          "output_type": "stream",
          "text": [
            "None\n"
          ],
          "name": "stdout"
        }
      ]
    },
    {
      "cell_type": "code",
      "metadata": {
        "colab": {
          "base_uri": "https://localhost:8080/",
          "height": 86,
          "referenced_widgets": [
            "40e0a9ff2f154625a4c6025cf3fccebc",
            "8a4bf294c82f4cc18cb6a66c2c01c7f3",
            "269996b62366487985e9f984962dc9d8",
            "319b7cd1d48148c08a07d9120c64b65d",
            "df8210f46b0e4c31a1ea140b67a1ff59",
            "12467a1e54274a1bba32dedfc3fb3f2c",
            "14323e44688b463fbee8e42d16551a8a",
            "2c4eb76246fc4a688ce04feb6204d275"
          ]
        },
        "id": "U1HwjN9_f7sL",
        "outputId": "da074f43-0c8c-4157-fd51-d3b147e9ab38"
      },
      "source": [
        "# https://www.sbert.net/examples/applications/computing-embeddings/README.html\n",
        "model_st.max_seq_length = 158\n",
        "\n",
        "sentence_embeddings = model_st.encode(text, normalize_embeddings=True, show_progress_bar=True)\n",
        "sentence_embeddings.shape\n",
        "len(sentence_embeddings[0])"
      ],
      "execution_count": null,
      "outputs": [
        {
          "output_type": "display_data",
          "data": {
            "application/vnd.jupyter.widget-view+json": {
              "model_id": "40e0a9ff2f154625a4c6025cf3fccebc",
              "version_minor": 0,
              "version_major": 2
            },
            "text/plain": [
              "HBox(children=(FloatProgress(value=0.0, description='Batches', max=39.0, style=ProgressStyle(description_width…"
            ]
          },
          "metadata": {
            "tags": []
          }
        },
        {
          "output_type": "stream",
          "text": [
            "\n"
          ],
          "name": "stdout"
        },
        {
          "output_type": "execute_result",
          "data": {
            "text/plain": [
              "(1223, 256)"
            ]
          },
          "metadata": {
            "tags": []
          },
          "execution_count": 12
        },
        {
          "output_type": "execute_result",
          "data": {
            "text/plain": [
              "256"
            ]
          },
          "metadata": {
            "tags": []
          },
          "execution_count": 12
        }
      ]
    },
    {
      "cell_type": "code",
      "metadata": {
        "id": "Nd4YFpH4gLx5"
      },
      "source": [
        "for sentence, embedding in zip(text[:2], sentence_embeddings[0:2]):\n",
        "    print(\"Sentence:\", sentence)\n",
        "    print(\"Embedding:\", embedding)\n",
        "    print(\"\")"
      ],
      "execution_count": null,
      "outputs": []
    },
    {
      "cell_type": "markdown",
      "metadata": {
        "id": "y6lcyrJsd2G3"
      },
      "source": [
        "### Dimension Reduction\n",
        "\n",
        "Why is dimensionality reduction always done before clustering? - https://stats.stackexchange.com/questions/256172/why-is-dimensionality-reduction-always-done-before-clustering\n",
        "\n",
        "R: https://towardsdatascience.com/how-to-cluster-in-high-dimensions-4ef693bacc6: Graph-based clustering (Spectral, SNN-cliq, Seurat) is perhaps most robust for high-dimensional data as it uses the distance on a graph.\n",
        "\n",
        "(From the same article as the above link shows)HDBSCAN, i.e. Hierarchical DBSCAN, is a powerful density-based clustering algorithm which is: 1) indifferent to the shape of clusters, 2) does not require the number of clusters to be specified, 3) robust with respect to clusters with different density. Further, HBDSCAN is very attractive because it has only one hyperparameter minPts which is the minimal number of points in a cluster. It is relatively fast for large data sets, detects outlying cells, and for each cell it reports a probability of assignment to a cluster."
      ]
    },
    {
      "cell_type": "markdown",
      "metadata": {
        "id": "v3FsHYehjywm"
      },
      "source": [
        "One very popular method for visualizing document similarity is to use t-distributed stochastic neighbor embedding, t-SNE. - https://www.scikit-yb.org/en/latest/api/text/tsne.html"
      ]
    },
    {
      "cell_type": "markdown",
      "metadata": {
        "id": "2nj3EW05oVDK"
      },
      "source": [
        "#### UMAP\n",
        "\n",
        "Uniform Manifold Approximation and Projection for Dimension Reduction"
      ]
    },
    {
      "cell_type": "code",
      "metadata": {
        "id": "TsDqUYX1d4L3"
      },
      "source": [
        "import umap"
      ],
      "execution_count": null,
      "outputs": []
    },
    {
      "cell_type": "code",
      "metadata": {
        "colab": {
          "base_uri": "https://localhost:8080/"
        },
        "id": "4XdMXC0po4Iq",
        "outputId": "c23c3093-0e66-4eb5-f08d-9511f5180436"
      },
      "source": [
        "# https://umap-learn.readthedocs.io/en/latest/sparse.html A text analysis example\n",
        "reducer = umap.UMAP(metric='hellinger', random_state=42)\n",
        "reducer.fit(sentence_embeddings)"
      ],
      "execution_count": null,
      "outputs": [
        {
          "output_type": "execute_result",
          "data": {
            "text/plain": [
              "UMAP(a=None, angular_rp_forest=False, b=None, dens_frac=0.0, dens_lambda=0.0,\n",
              "     dens_var_shift=0.1, densmap=False, disconnection_distance=None,\n",
              "     force_approximation_algorithm=False, init='spectral', learning_rate=1.0,\n",
              "     local_connectivity=1.0, low_memory=True, metric='euclidean',\n",
              "     metric_kwds=None, min_dist=0.1, n_components=2, n_epochs=None, n_jobs=-1,\n",
              "     n_neighbors=15, negative_sample_rate=5, output_dens=False,\n",
              "     output_metric='euclidean', output_metric_kwds=None, random_state=42,\n",
              "     repulsion_strength=1.0, set_op_mix_ratio=1.0, spread=1.0,\n",
              "     target_metric='categorical', target_metric_kwds=None, ...)"
            ]
          },
          "metadata": {
            "tags": []
          },
          "execution_count": 14
        }
      ]
    },
    {
      "cell_type": "code",
      "metadata": {
        "colab": {
          "base_uri": "https://localhost:8080/"
        },
        "id": "1dv3kJy4pUTg",
        "outputId": "533bfe88-8be6-4f1e-907b-09549154e164"
      },
      "source": [
        "umap_embedding = reducer.transform(sentence_embeddings)\n",
        "# Verify that the result of calling transform is\n",
        "# idenitical to accessing the embedding_ attribute\n",
        "assert(np.all(umap_embedding == reducer.embedding_))\n",
        "umap_embedding.shape"
      ],
      "execution_count": null,
      "outputs": [
        {
          "output_type": "execute_result",
          "data": {
            "text/plain": [
              "(1223, 2)"
            ]
          },
          "metadata": {
            "tags": []
          },
          "execution_count": 103
        }
      ]
    },
    {
      "cell_type": "code",
      "metadata": {
        "colab": {
          "base_uri": "https://localhost:8080/",
          "height": 290
        },
        "id": "Y355nE8Hp1I-",
        "outputId": "c9a918cb-ddba-4ac0-9a81-ad04407c25c0"
      },
      "source": [
        "plt.scatter(umap_embedding[:, 0], umap_embedding[:, 1],cmap='Spectral', s=5)\n",
        "plt.gca().set_aspect('equal', 'datalim')\n",
        "plt.colorbar(boundaries=np.arange(11)-0.5).set_ticks(np.arange(10))\n",
        "plt.title('UMAP projection of the texts', fontsize=24);"
      ],
      "execution_count": null,
      "outputs": [
        {
          "output_type": "display_data",
          "data": {
            "image/png": "[encoded data removed]",
            "text/plain": [
              "<Figure size 432x288 with 2 Axes>"
            ]
          },
          "metadata": {
            "tags": [],
            "needs_background": "light"
          }
        }
      ]
    },
    {
      "cell_type": "markdown",
      "metadata": {
        "id": "D2kRE7d98W90"
      },
      "source": [
        "## HDBSCAN\n",
        "\n",
        "https://hdbscan.readthedocs.io/en/latest/parameter_selection.html"
      ]
    },
    {
      "cell_type": "code",
      "metadata": {
        "id": "UEoldCuOguSq"
      },
      "source": [
        "import hdbscan\n",
        "import sklearn.cluster as cluster\n",
        "import time\n",
        "import seaborn as sns\n",
        "%matplotlib inline\n",
        "sns.set_context('poster')\n",
        "sns.set_color_codes()\n",
        "plot_kwds = {'alpha' : 0.25, 's' : 80, 'linewidths':0}\n",
        "\n",
        "#from sklearn.preprocessing import StandardScaler "
      ],
      "execution_count": null,
      "outputs": []
    },
    {
      "cell_type": "code",
      "metadata": {
        "id": "d1UAUsCC9JmC"
      },
      "source": [
        "def plot_clusters(data, algorithm, args, kwds):\n",
        "    start_time = time.time()\n",
        "    labels = algorithm(*args, **kwds).fit_predict(data)\n",
        "    end_time = time.time()\n",
        "    palette = sns.color_palette('deep', np.unique(labels).max() + 1)\n",
        "    colors = [palette[x] if x >= 0 else (0.0, 0.0, 0.0) for x in labels]\n",
        "    plt.scatter(data.T[0], data.T[1], c=colors, **plot_kwds)\n",
        "    frame = plt.gca()\n",
        "    frame.axes.get_xaxis().set_visible(False)\n",
        "    frame.axes.get_yaxis().set_visible(False)\n",
        "    plt.title('Clusters found by {}'.format(str(algorithm.__name__)), fontsize=24)\n",
        "    plt.text(-0.5, 0.7, 'Clustering took {:.2f} s'.format(end_time - start_time), fontsize=14)"
      ],
      "execution_count": null,
      "outputs": []
    },
    {
      "cell_type": "code",
      "metadata": {
        "colab": {
          "base_uri": "https://localhost:8080/",
          "height": 285
        },
        "id": "bHiCr5Lniq3q",
        "outputId": "ba1b5142-7acc-4834-a2a8-8873af717402"
      },
      "source": [
        "plot_clusters(umap_embedding, hdbscan.HDBSCAN, (), {'min_cluster_size':50})"
      ],
      "execution_count": null,
      "outputs": [
        {
          "output_type": "display_data",
          "data": {
            "image/png": "[encoded data removed]",
            "text/plain": [
              "<Figure size 432x288 with 1 Axes>"
            ]
          },
          "metadata": {
            "tags": [],
            "needs_background": "light"
          }
        }
      ]
    },
    {
      "cell_type": "code",
      "metadata": {
        "id": "uQZIojVlIGoU"
      },
      "source": [
        "plot_clusters(sentence_embeddings, hdbscan.HDBSCAN, (), {'min_cluster_size':50})"
      ],
      "execution_count": null,
      "outputs": []
    },
    {
      "cell_type": "code",
      "metadata": {
        "id": "v2X2UzpR9oOy"
      },
      "source": [
        "plot_clusters(umap_embedding, cluster.SpectralClustering, (), {'n_clusters':6})"
      ],
      "execution_count": null,
      "outputs": []
    },
    {
      "cell_type": "code",
      "metadata": {
        "id": "7fK8tYln95hS"
      },
      "source": [
        "plot_clusters(umap_embedding, cluster.DBSCAN, (), {'eps':5.25})"
      ],
      "execution_count": null,
      "outputs": []
    },
    {
      "cell_type": "code",
      "metadata": {
        "id": "Dir6yzpPjEgH"
      },
      "source": [
        "# Increasing the min_cluster_size to 30 reduces the number of clusters, merging some together.\n",
        "# The larger the value of min_samples you provide, the more conservative the clustering – more points will be declared as noise, and clusters will be restricted to progressively more dense areas. \n",
        "# Leaf clustering: https://hdbscan.readthedocs.io/en/latest/parameter_selection.html\n",
        "\n",
        "clusterer = hdbscan.HDBSCAN(min_cluster_size=50, gen_min_span_tree=True, cluster_selection_method='leaf')"
      ],
      "execution_count": null,
      "outputs": []
    },
    {
      "cell_type": "code",
      "metadata": {
        "colab": {
          "base_uri": "https://localhost:8080/",
          "height": 413
        },
        "id": "QuSyT8onJmmw",
        "outputId": "c9082a9f-7ecb-4716-92cc-f2171cc37e6c"
      },
      "source": [
        "clusterer.fit(umap_embedding)\n",
        "\n",
        "palette = sns.color_palette()\n",
        "cluster_colors = [sns.desaturate(palette[col], sat)\n",
        "                  if col >= 0 else (0.5, 0.5, 0.5) for col, sat in\n",
        "                  zip(clusterer.labels_, clusterer.probabilities_)]\n",
        "#cluster_colors\n",
        "plt.scatter(umap_embedding[:, 0], umap_embedding[:, 1], c=cluster_colors, **plot_kwds)"
      ],
      "execution_count": null,
      "outputs": [
        {
          "output_type": "execute_result",
          "data": {
            "text/plain": [
              "HDBSCAN(algorithm='best', allow_single_cluster=False, alpha=1.0,\n",
              "        approx_min_span_tree=True, cluster_selection_epsilon=0.0,\n",
              "        cluster_selection_method='leaf', core_dist_n_jobs=4,\n",
              "        gen_min_span_tree=True, leaf_size=40,\n",
              "        match_reference_implementation=False, memory=Memory(location=None),\n",
              "        metric='euclidean', min_cluster_size=50, min_samples=None, p=None,\n",
              "        prediction_data=False)"
            ]
          },
          "metadata": {
            "tags": []
          },
          "execution_count": 47
        },
        {
          "output_type": "execute_result",
          "data": {
            "text/plain": [
              "<matplotlib.collections.PathCollection at 0x7fab06a85b50>"
            ]
          },
          "metadata": {
            "tags": []
          },
          "execution_count": 47
        },
        {
          "output_type": "display_data",
          "data": {
            "image/png": "[encoded data removed]",
            "text/plain": [
              "<Figure size 432x288 with 1 Axes>"
            ]
          },
          "metadata": {
            "tags": [],
            "needs_background": "light"
          }
        }
      ]
    },
    {
      "cell_type": "code",
      "metadata": {
        "id": "xvLreecGAao-"
      },
      "source": [
        "clusterer.minimum_spanning_tree_.plot(edge_cmap='viridis',\n",
        "                                      edge_alpha=0.6,\n",
        "                                      node_size=80,\n",
        "                                      edge_linewidth=2)"
      ],
      "execution_count": null,
      "outputs": []
    },
    {
      "cell_type": "code",
      "metadata": {
        "colab": {
          "base_uri": "https://localhost:8080/",
          "height": 413
        },
        "id": "oJCGOfsFAl-X",
        "outputId": "7e71cd2b-f97f-4a74-c6e2-05fe580d9844"
      },
      "source": [
        "clusterer.fit(sentence_embeddings)\n",
        "\n",
        "palette = sns.color_palette()\n",
        "cluster_colors = [sns.desaturate(palette[col], sat)\n",
        "                  if col >= 0 else (0.5, 0.5, 0.5) for col, sat in\n",
        "                  zip(clusterer.labels_, clusterer.probabilities_)]\n",
        "#cluster_colors\n",
        "plt.scatter(umap_embedding[:, 0], umap_embedding[:, 1], c=cluster_colors, **plot_kwds)"
      ],
      "execution_count": null,
      "outputs": [
        {
          "output_type": "execute_result",
          "data": {
            "text/plain": [
              "HDBSCAN(algorithm='best', allow_single_cluster=False, alpha=1.0,\n",
              "        approx_min_span_tree=True, cluster_selection_epsilon=0.0,\n",
              "        cluster_selection_method='leaf', core_dist_n_jobs=4,\n",
              "        gen_min_span_tree=True, leaf_size=40,\n",
              "        match_reference_implementation=False, memory=Memory(location=None),\n",
              "        metric='euclidean', min_cluster_size=50, min_samples=None, p=None,\n",
              "        prediction_data=False)"
            ]
          },
          "metadata": {
            "tags": []
          },
          "execution_count": 48
        },
        {
          "output_type": "execute_result",
          "data": {
            "text/plain": [
              "<matplotlib.collections.PathCollection at 0x7fab069e0c50>"
            ]
          },
          "metadata": {
            "tags": []
          },
          "execution_count": 48
        },
        {
          "output_type": "display_data",
          "data": {
            "image/png": "[encoded data removed]",
            "text/plain": [
              "<Figure size 432x288 with 1 Axes>"
            ]
          },
          "metadata": {
            "tags": [],
            "needs_background": "light"
          }
        }
      ]
    },
    {
      "cell_type": "code",
      "metadata": {
        "id": "mGcBSHjXA7Dm",
        "colab": {
          "base_uri": "https://localhost:8080/"
        },
        "outputId": "02210be7-c298-42f0-92e8-157f332ac9f0"
      },
      "source": [
        "clusterer.labels_"
      ],
      "execution_count": null,
      "outputs": [
        {
          "output_type": "execute_result",
          "data": {
            "text/plain": [
              "array([ 1, -1,  0, ...,  0,  0,  0])"
            ]
          },
          "metadata": {
            "tags": []
          },
          "execution_count": 36
        }
      ]
    },
    {
      "cell_type": "markdown",
      "metadata": {
        "id": "mzJowuw9lZVc"
      },
      "source": [
        "## Custom Function for All Models"
      ]
    },
    {
      "cell_type": "code",
      "metadata": {
        "id": "tFESEyW0REfr"
      },
      "source": [
        "def mycluster(text_list, bert_model, custom_mincluster_size, custom_max_seq_length = 160):\n",
        "  \n",
        "  # sentence embedding\n",
        "  model_st = SentenceTransformer(bert_model) \n",
        "  model_st.max_seq_length = custom_max_seq_length\n",
        "  sentence_embeddings = model_st.encode(text_list, normalize_embeddings=True, show_progress_bar=True)\n",
        "\n",
        "  # dimension reduction\n",
        "  reducer = umap.UMAP(random_state=42, metric='cosine')\n",
        "  reducer.fit(sentence_embeddings)\n",
        "\n",
        "  # clustering HDBSCAN\n",
        "  clusterer = hdbscan.HDBSCAN(min_cluster_size=custom_mincluster_size, gen_min_span_tree=True, cluster_selection_method='leaf')\n",
        "  clusterer.fit(sentence_embeddings)\n",
        "\n",
        "  unique_value = np.unique(clusterer.labels_)\n",
        "\n",
        "  return clusterer.labels_, unique_value\n"
      ],
      "execution_count": null,
      "outputs": []
    },
    {
      "cell_type": "code",
      "metadata": {
        "colab": {
          "base_uri": "https://localhost:8080/",
          "height": 86,
          "referenced_widgets": [
            "21bc5994a3b84a08b7d9ad3ac92d3177",
            "b963d34b9ac845f6948a392fbb616316",
            "d6e9c4be1fe14d6699331ba66e3fa9ce",
            "a18b2a85d9414a779d108a0a9df65189",
            "a66547779d964a649fe2cdf560b97489",
            "4b5f94719eed462382adf00854fe3be1",
            "c20cc3f7fef24714af203d0c838c8a25",
            "d2efb491a7784cd2b304e707819170be"
          ]
        },
        "id": "LTQb0sGUxe5o",
        "outputId": "bbfd526e-ceb0-40db-9f62-7a9603493798"
      },
      "source": [
        "#topic_model = BERTopic(embedding_model=\"KB/bert-base-swedish-cased\", calculate_probabilities=True, nr_topics = 30) \n",
        "# model\n",
        "\n",
        "# af-ai-center/bert-large-swedish-uncased\n",
        "# KB/electra-small-swedish-cased-generator\n",
        "\n",
        "elec_cluster, elec_unique_cluster = mycluster(text, bert_model=\"KB/electra-small-swedish-cased-generator\",\n",
        "                                       custom_mincluster_size = 30)\n",
        "#elec_cluster\n",
        "elec_unique_cluster"
      ],
      "execution_count": null,
      "outputs": [
        {
          "output_type": "display_data",
          "data": {
            "application/vnd.jupyter.widget-view+json": {
              "model_id": "21bc5994a3b84a08b7d9ad3ac92d3177",
              "version_minor": 0,
              "version_major": 2
            },
            "text/plain": [
              "HBox(children=(FloatProgress(value=0.0, description='Batches', max=25.0, style=ProgressStyle(description_width…"
            ]
          },
          "metadata": {
            "tags": []
          }
        },
        {
          "output_type": "stream",
          "text": [
            "\n"
          ],
          "name": "stdout"
        },
        {
          "output_type": "execute_result",
          "data": {
            "text/plain": [
              "array([-1,  0,  1,  2,  3,  4,  5,  6,  7,  8])"
            ]
          },
          "metadata": {
            "tags": []
          },
          "execution_count": 97
        }
      ]
    },
    {
      "cell_type": "code",
      "metadata": {
        "colab": {
          "base_uri": "https://localhost:8080/",
          "height": 86,
          "referenced_widgets": [
            "a90461d1e0af48879ca5ef2ada85e81f",
            "094a146dcee9429bb9d1f4128b2a1446",
            "876b8535ea304c4c81a6ad2b1071062e",
            "8a42a86e009e40f39ceef31781a12a7e",
            "e427ae75ef814dc2b05704033785c171",
            "98a6e8b3f7f64ba7b8c97e5cdd07ebfb",
            "e6884a6873664ce796d37bac28134c12",
            "3b6c7a51a2ef4e2c850fa81de0e5a1a9"
          ]
        },
        "id": "2qDuL650lEhP",
        "outputId": "f18c64ac-46c7-4c3b-d183-a5b7a30e6e34"
      },
      "source": [
        "#topic_model = BERTopic(embedding_model=\"KB/bert-base-swedish-cased\", calculate_probabilities=True, nr_topics = 30) \n",
        "# model\n",
        "\n",
        "# af-ai-center/bert-large-swedish-uncased\n",
        "# KB/electra-small-swedish-cased-generator\n",
        "\n",
        "af_cluster, af_unique_cluster = mycluster(text, bert_model=\"af-ai-center/bert-large-swedish-uncased\",\n",
        "                                       custom_mincluster_size = 30)\n",
        "#af_cluster\n",
        "af_unique_cluster"
      ],
      "execution_count": null,
      "outputs": [
        {
          "output_type": "display_data",
          "data": {
            "application/vnd.jupyter.widget-view+json": {
              "model_id": "a90461d1e0af48879ca5ef2ada85e81f",
              "version_minor": 0,
              "version_major": 2
            },
            "text/plain": [
              "HBox(children=(FloatProgress(value=0.0, description='Batches', max=25.0, style=ProgressStyle(description_width…"
            ]
          },
          "metadata": {
            "tags": []
          }
        },
        {
          "output_type": "stream",
          "text": [
            "\n"
          ],
          "name": "stdout"
        },
        {
          "output_type": "execute_result",
          "data": {
            "text/plain": [
              "array([-1,  0,  1,  2,  3,  4,  5,  6,  7,  8])"
            ]
          },
          "metadata": {
            "tags": []
          },
          "execution_count": 99
        }
      ]
    },
    {
      "cell_type": "code",
      "metadata": {
        "colab": {
          "base_uri": "https://localhost:8080/",
          "height": 912,
          "referenced_widgets": [
            "5effca69e81242b19ca4e7b754611d1f",
            "00ee48eee18f4e9e8192cd2f1090bca3",
            "03b3ab7e4d6e4628888829b5e1c17d8e",
            "ae61e0a25535401e8bff894f75e6df72",
            "ad348359665042098e4f11776bc60630",
            "a5816a37acc9461e94f6f86ccafb73e3",
            "961518cb21a14dbcb0556040ce9981f6",
            "5d9867f1523e497aae4eed652e30d574"
          ]
        },
        "id": "4H_yHw7anSgk",
        "outputId": "425088ad-a6aa-48ac-f6b9-17b5b1e6e90b"
      },
      "source": [
        "bert_base_cluster, bb_unique_cluster = mycluster(text, bert_model=\"KB/bert-base-swedish-cased\",\n",
        "                                                 custom_mincluster_size = 30)\n",
        "\n",
        "bert_base_cluster\n",
        "bb_unique_cluster"
      ],
      "execution_count": null,
      "outputs": [
        {
          "output_type": "display_data",
          "data": {
            "application/vnd.jupyter.widget-view+json": {
              "model_id": "5effca69e81242b19ca4e7b754611d1f",
              "version_minor": 0,
              "version_major": 2
            },
            "text/plain": [
              "HBox(children=(FloatProgress(value=0.0, description='Batches', max=25.0, style=ProgressStyle(description_width…"
            ]
          },
          "metadata": {
            "tags": []
          }
        },
        {
          "output_type": "stream",
          "text": [
            "\n"
          ],
          "name": "stdout"
        },
        {
          "output_type": "execute_result",
          "data": {
            "text/plain": [
              "array([-1,  6,  4, -1, -1,  1, -1, -1, -1, -1, -1,  1,  1, -1, -1,  3, -1,\n",
              "       -1, -1, -1, -1, -1,  1,  1,  1,  1, -1, -1, -1, -1, -1, -1,  5, -1,\n",
              "        1,  5, -1,  6,  6, -1,  2,  2, -1, -1,  0, -1,  0,  5,  5,  5,  5,\n",
              "        5,  5,  6, -1,  6, -1, -1, -1, -1,  3,  3,  2,  2,  2,  9, -1, -1,\n",
              "        6,  6,  3,  8,  8,  8,  8,  8, -1,  8,  8, -1,  3,  1,  3,  3,  3,\n",
              "        4,  6,  6,  6,  6, -1,  2, -1,  7,  1,  4,  4,  4,  2,  2,  1,  2,\n",
              "        7, -1, -1, -1,  1, -1,  3, -1,  0,  0, -1,  3,  3,  0, -1, -1,  6,\n",
              "       -1, -1,  3,  3, -1, -1,  5, -1,  5,  7,  2,  3,  2, -1, -1,  1, -1,\n",
              "       -1,  3,  3,  0,  0,  5,  3,  5, -1, -1,  5,  6, -1, -1, -1,  0, -1,\n",
              "        6, -1,  2,  2,  9,  4,  9,  8,  3,  0,  9,  9,  9, -1, -1,  6,  6,\n",
              "        6,  6, -1,  3,  0,  8,  8,  8,  8,  8,  8, -1,  6,  8,  3,  4,  3,\n",
              "        0,  7,  4,  6,  6,  6,  4, -1,  4,  4, -1,  4,  8,  4,  4,  6,  8,\n",
              "       -1,  3, -1,  6,  7,  6,  2,  2, -1, -1, -1,  7, -1,  0,  4,  6,  2,\n",
              "        2,  3,  7, -1,  7,  3,  0, -1, -1, -1,  3, -1, -1, -1, -1, -1, -1,\n",
              "       -1,  6, -1,  3,  8,  3,  7,  4,  3,  5, -1, -1, -1,  9, -1,  5,  8,\n",
              "       -1, -1,  3, -1,  3,  7,  3, -1,  8,  3, -1, -1, -1,  3,  3, -1,  8,\n",
              "       -1,  5, -1,  3,  1,  9,  4,  5,  3,  7,  3,  3, -1, -1,  6,  9,  3,\n",
              "        7, -1, -1, -1,  3, -1,  3,  8,  6,  4,  2, -1, -1,  8, -1, -1, -1,\n",
              "        0,  3,  5,  5,  6,  9,  3,  4,  5,  8,  7,  4, -1,  6,  3,  1, -1,\n",
              "        5,  5,  3, -1,  3, -1,  7,  9,  9,  8,  8,  7, -1,  5,  5,  4,  8,\n",
              "       -1,  0,  3,  7, -1, -1, -1, -1,  6,  9,  0,  5, -1, -1,  9,  6,  8,\n",
              "       -1,  7,  7,  7,  7,  4,  1,  3,  1, -1, -1, -1,  1, -1, -1, -1, -1,\n",
              "       -1, -1, -1, -1, -1, -1, -1, -1, -1, -1, -1, -1, -1,  1,  1, -1, -1,\n",
              "       -1, -1, -1, -1, -1,  5,  5, -1,  9,  9, -1, -1, -1, -1,  1, -1, -1,\n",
              "        7,  5,  5,  5,  6,  6,  6, -1,  3, -1, -1, -1,  5,  3,  3,  3, -1,\n",
              "       -1, -1,  5,  5, -1, -1,  5, -1,  5,  8, -1,  5, -1, -1, -1,  5, -1,\n",
              "        5,  5,  9,  9,  3,  9,  0,  3, -1, -1, -1, -1, -1,  2, -1, -1, -1,\n",
              "       -1,  3,  0,  0,  0,  0,  0,  0,  0,  5,  5,  3,  7, -1, -1,  5,  5,\n",
              "        5,  6,  2, -1, -1, -1, -1,  9,  8, -1, -1, -1, -1,  9,  8,  7, -1,\n",
              "        7,  8,  8,  8,  8,  9, -1, -1,  9, -1,  8,  8,  7,  1,  1, -1,  3,\n",
              "        2, -1,  3,  5,  5, -1,  9,  6, -1, -1, -1, -1, -1,  9, -1,  1, -1,\n",
              "        0,  7,  3,  5, -1,  3,  4,  4, -1,  4,  4, -1,  0,  5, -1,  2,  9,\n",
              "        9,  9,  9,  9,  8,  1,  3,  1, -1, -1,  3, -1, -1,  9,  9,  9, -1,\n",
              "        8,  8, -1, -1,  7, -1,  3, -1,  3, -1, -1,  3, -1, -1,  3, -1,  3,\n",
              "       -1, -1,  7,  7,  9,  5,  9, -1,  9,  9,  3, -1,  6, -1, -1,  8,  3,\n",
              "        6,  6,  8,  6, -1,  2,  6,  2,  2,  2,  3, -1, -1, -1,  9,  8,  7,\n",
              "        3, -1,  7,  8,  0, -1,  5,  9,  8,  8,  8,  8,  8,  3,  5,  4,  4,\n",
              "       -1,  2, -1,  5,  5,  2, -1, -1, -1, -1,  5,  7,  8,  6,  2, -1,  8,\n",
              "        0,  4,  8,  4,  8,  8,  8,  8,  2, -1,  6,  6,  6,  6,  2,  2,  2,\n",
              "        2,  2,  7, -1,  8, -1, -1, -1, -1, -1, -1,  6, -1,  9, -1,  3,  9,\n",
              "       -1,  3,  3, -1,  8, -1, -1, -1, -1,  7, -1,  9, -1,  9,  9, -1, -1,\n",
              "       -1, -1,  7,  6,  6,  6, -1,  8,  8,  7, -1,  8,  7,  8,  8,  8,  8,\n",
              "        1,  8, -1,  3, -1, -1,  4,  1,  0,  4,  4,  6,  6,  6,  6,  9,  6,\n",
              "        8,  6,  2,  2,  2, -1, -1, -1,  8,  7,  1,  7, -1,  4,  8,  1, -1,\n",
              "        4,  1,  1,  4,  4,  4,  1,  1,  2,  2,  7, -1,  8, -1, -1,  0, -1,\n",
              "        3, -1,  3, -1, -1,  8, -1, -1, -1, -1,  6,  1,  6,  9])"
            ]
          },
          "metadata": {
            "tags": []
          },
          "execution_count": 100
        },
        {
          "output_type": "execute_result",
          "data": {
            "text/plain": [
              "array([-1,  0,  1,  2,  3,  4,  5,  6,  7,  8,  9])"
            ]
          },
          "metadata": {
            "tags": []
          },
          "execution_count": 100
        }
      ]
    },
    {
      "cell_type": "code",
      "metadata": {
        "colab": {
          "base_uri": "https://localhost:8080/",
          "height": 754
        },
        "id": "MPh5Z9PFPBIi",
        "outputId": "0f5895c8-496e-4fee-f3a2-dddd54d67874"
      },
      "source": [
        "df['af_cluster'] = af_cluster\n",
        "df['elec_cluster'] = elec_cluster\n",
        "df['bert_base_cluster'] = bert_base_cluster\n",
        "df"
      ],
      "execution_count": null,
      "outputs": [
        {
          "output_type": "execute_result",
          "data": {
            "text/html": [
              "<div>\n",
              "<style scoped>\n",
              "    .dataframe tbody tr th:only-of-type {\n",
              "        vertical-align: middle;\n",
              "    }\n",
              "\n",
              "    .dataframe tbody tr th {\n",
              "        vertical-align: top;\n",
              "    }\n",
              "\n",
              "    .dataframe thead th {\n",
              "        text-align: right;\n",
              "    }\n",
              "</style>\n",
              "<table border=\"1\" class=\"dataframe\">\n",
              "  <thead>\n",
              "    <tr style=\"text-align: right;\">\n",
              "      <th></th>\n",
              "      <th>TrainsetVehicleNumber</th>\n",
              "      <th>DefectHeading</th>\n",
              "      <th>DefectDescription</th>\n",
              "      <th>FaultIndicationCode</th>\n",
              "      <th>DefectCode</th>\n",
              "      <th>DefectNumber</th>\n",
              "      <th>Text</th>\n",
              "      <th>elec_cluster</th>\n",
              "      <th>af_cluster</th>\n",
              "      <th>bert_base_cluster</th>\n",
              "    </tr>\n",
              "  </thead>\n",
              "  <tbody>\n",
              "    <tr>\n",
              "      <th>0</th>\n",
              "      <td>X61005</td>\n",
              "      <td>NaN</td>\n",
              "      <td>bromsen avstånd boogie epac fastbromsningsskyd...</td>\n",
              "      <td>NaN</td>\n",
              "      <td>51</td>\n",
              "      <td>17048150</td>\n",
              "      <td>Broms: EPAC 5, fastbromsningsskydd felaktigt</td>\n",
              "      <td>-1</td>\n",
              "      <td>-1</td>\n",
              "      <td>-1</td>\n",
              "    </tr>\n",
              "    <tr>\n",
              "      <th>1</th>\n",
              "      <td>X61032</td>\n",
              "      <td>3920; broms vagn a1: avstängningskran för nödb...</td>\n",
              "      <td>3920; broms vagn a1: avstängningskran för nödb...</td>\n",
              "      <td>NaN</td>\n",
              "      <td>51</td>\n",
              "      <td>15171713</td>\n",
              "      <td>Broms vagn A1: Avstängningskran för nödbroms ...</td>\n",
              "      <td>5</td>\n",
              "      <td>6</td>\n",
              "      <td>6</td>\n",
              "    </tr>\n",
              "    <tr>\n",
              "      <th>3</th>\n",
              "      <td>X61007</td>\n",
              "      <td>felkod 3501. broms vagn a2: epac felaktig fele...</td>\n",
              "      <td>felkod 3501. broms vagn a2: epac felaktig fele...</td>\n",
              "      <td>NaN</td>\n",
              "      <td>51</td>\n",
              "      <td>15054079</td>\n",
              "      <td>Broms vagn A2: EPAC 4 felaktig</td>\n",
              "      <td>7</td>\n",
              "      <td>4</td>\n",
              "      <td>4</td>\n",
              "    </tr>\n",
              "    <tr>\n",
              "      <th>12</th>\n",
              "      <td>X61068</td>\n",
              "      <td>13522 multipelfel bromsfel tågnivå bromsstyrenhet</td>\n",
              "      <td>13522 multipelfel bromsfel tågnivå bromsstyrenhet</td>\n",
              "      <td>13522.0</td>\n",
              "      <td>513</td>\n",
              "      <td>18015611</td>\n",
              "      <td>Multipelfel \"EP bromsfel\" tågnivå</td>\n",
              "      <td>-1</td>\n",
              "      <td>-1</td>\n",
              "      <td>-1</td>\n",
              "    </tr>\n",
              "    <tr>\n",
              "      <th>13</th>\n",
              "      <td>X61039</td>\n",
              "      <td>13539 multipelfel parkeringsbroms till fordons...</td>\n",
              "      <td>13539 multipelfel parkeringsbroms till fordons...</td>\n",
              "      <td>13539.0</td>\n",
              "      <td>525</td>\n",
              "      <td>20000252</td>\n",
              "      <td>Multipelfel \"EP bromsfel\" fordonsnivå Parkerin...</td>\n",
              "      <td>-1</td>\n",
              "      <td>-1</td>\n",
              "      <td>-1</td>\n",
              "    </tr>\n",
              "    <tr>\n",
              "      <th>...</th>\n",
              "      <td>...</td>\n",
              "      <td>...</td>\n",
              "      <td>...</td>\n",
              "      <td>...</td>\n",
              "      <td>...</td>\n",
              "      <td>...</td>\n",
              "      <td>...</td>\n",
              "      <td>...</td>\n",
              "      <td>...</td>\n",
              "      <td>...</td>\n",
              "    </tr>\n",
              "    <tr>\n",
              "      <th>1203</th>\n",
              "      <td>X61011</td>\n",
              "      <td>521 bromsenhet felkoder 2922 och 2923 epac bro...</td>\n",
              "      <td>521 bromsenhet felkoder 2922 och 2923 epac bro...</td>\n",
              "      <td>NaN</td>\n",
              "      <td>521</td>\n",
              "      <td>20059067</td>\n",
              "      <td>Broms M1 EPAC 3: Broms på axel 05 blockerade ...</td>\n",
              "      <td>-1</td>\n",
              "      <td>-1</td>\n",
              "      <td>-1</td>\n",
              "    </tr>\n",
              "    <tr>\n",
              "      <th>1206</th>\n",
              "      <td>X61003</td>\n",
              "      <td>avstängd broms boggi felkod 3502</td>\n",
              "      <td>avstängd broms boggi felkod 3502</td>\n",
              "      <td>3502.0</td>\n",
              "      <td>5</td>\n",
              "      <td>18084812</td>\n",
              "      <td>Broms vagn A2: Avstängningskran broms boggie ...</td>\n",
              "      <td>5</td>\n",
              "      <td>6</td>\n",
              "      <td>6</td>\n",
              "    </tr>\n",
              "    <tr>\n",
              "      <th>1212</th>\n",
              "      <td>X61003</td>\n",
              "      <td>hållebroms går till under färd från bägge hytt...</td>\n",
              "      <td>felkod 14820 inträffat ggr kort tid. 20: hållb...</td>\n",
              "      <td>NaN</td>\n",
              "      <td>513</td>\n",
              "      <td>16071558</td>\n",
              "      <td>TB 20: Hållbroms ej loss</td>\n",
              "      <td>0</td>\n",
              "      <td>0</td>\n",
              "      <td>1</td>\n",
              "    </tr>\n",
              "    <tr>\n",
              "      <th>1218</th>\n",
              "      <td>X61079</td>\n",
              "      <td>avstängningskran nödbroms</td>\n",
              "      <td>broms vagn a1, avstängningskran för nödbroms s...</td>\n",
              "      <td>NaN</td>\n",
              "      <td>5</td>\n",
              "      <td>17028719</td>\n",
              "      <td>Broms vagn A1: Avstängningskran för nödbroms ...</td>\n",
              "      <td>5</td>\n",
              "      <td>6</td>\n",
              "      <td>6</td>\n",
              "    </tr>\n",
              "    <tr>\n",
              "      <th>1219</th>\n",
              "      <td>X61014</td>\n",
              "      <td>kod: 2712 varvtalsgivare felaktig axel4</td>\n",
              "      <td>kod: 2712 varvtalsgivare felaktig axel4</td>\n",
              "      <td>NaN</td>\n",
              "      <td>514</td>\n",
              "      <td>11158804</td>\n",
              "      <td>Broms: Hastighetsgivare axel 4 felaktig</td>\n",
              "      <td>-1</td>\n",
              "      <td>8</td>\n",
              "      <td>9</td>\n",
              "    </tr>\n",
              "  </tbody>\n",
              "</table>\n",
              "<p>779 rows × 10 columns</p>\n",
              "</div>"
            ],
            "text/plain": [
              "     TrainsetVehicleNumber  ... bert_base_cluster\n",
              "0                   X61005  ...                -1\n",
              "1                   X61032  ...                 6\n",
              "3                   X61007  ...                 4\n",
              "12                  X61068  ...                -1\n",
              "13                  X61039  ...                -1\n",
              "...                    ...  ...               ...\n",
              "1203                X61011  ...                -1\n",
              "1206                X61003  ...                 6\n",
              "1212                X61003  ...                 1\n",
              "1218                X61079  ...                 6\n",
              "1219                X61014  ...                 9\n",
              "\n",
              "[779 rows x 10 columns]"
            ]
          },
          "metadata": {
            "tags": []
          },
          "execution_count": 101
        }
      ]
    },
    {
      "cell_type": "code",
      "metadata": {
        "id": "4ZJQQ1BCp4LK"
      },
      "source": [
        "df.to_csv('./bert_topics_brakeSystem_models.csv',\n",
        "          decimal = \",\", header = True, index = False, sep = \";\", encoding = \"utf-8-sig\")"
      ],
      "execution_count": null,
      "outputs": []
    },
    {
      "cell_type": "code",
      "metadata": {
        "id": "Gs-XvSIWTrZf"
      },
      "source": [
        "tok = BertTokenizer.from_pretrained(\"KB/bert-base-swedish-cased\")\n",
        "model = BertForMaskedLM.from_pretrained(\"KB/bert-base-swedish-cased\" if sys.argv[1] == \"orig\" else \"bert_sdm\")"
      ],
      "execution_count": null,
      "outputs": []
    },
    {
      "cell_type": "code",
      "metadata": {
        "id": "E2Poyfos5FMm"
      },
      "source": [
        "# the following codes do not work\n",
        "# from transformers import pipeline\n",
        " \n",
        "# fill_mask = pipeline(\n",
        "#  \"fill-mask\",\n",
        "#  model=\"bert_sdm\",\n",
        "#  tokenizer=\"bert_sdm\"\n",
        "# )"
      ],
      "execution_count": null,
      "outputs": []
    },
    {
      "cell_type": "code",
      "metadata": {
        "id": "PI3a3avrVH36"
      },
      "source": [
        "x = tok.encode(sys.argv[2])\n",
        "print(x)"
      ],
      "execution_count": null,
      "outputs": []
    },
    {
      "cell_type": "code",
      "metadata": {
        "id": "c0VTHgecT-LH"
      },
      "source": [
        "idx = x.index(115)\n",
        "x = torch.Tensor([x]).long()"
      ],
      "execution_count": null,
      "outputs": []
    },
    {
      "cell_type": "code",
      "metadata": {
        "id": "c6BbDl-EUY9e"
      },
      "source": [
        "l = model(x)[0]\n",
        "l = l[0][idx].detach().cpu().numpy()\n",
        "la = l.argsort()\n",
        "\n",
        "for i in range(1, 11):\n",
        "    print(tok.decode([la[-i]]))"
      ],
      "execution_count": null,
      "outputs": []
    },
    {
      "cell_type": "code",
      "metadata": {
        "id": "58EBChnjVcIu",
        "colab": {
          "base_uri": "https://localhost:8080/",
          "height": 172
        },
        "outputId": "fac4c6e2-fcbb-41f5-b418-d54981011790"
      },
      "source": [
        "while True:pass"
      ],
      "execution_count": null,
      "outputs": [
        {
          "output_type": "error",
          "ename": "KeyboardInterrupt",
          "evalue": "ignored",
          "traceback": [
            "\u001b[0;31m---------------------------------------------------------------------------\u001b[0m",
            "\u001b[0;31mKeyboardInterrupt\u001b[0m                         Traceback (most recent call last)",
            "\u001b[0;32m<ipython-input-89-534b7a74019f>\u001b[0m in \u001b[0;36m<module>\u001b[0;34m()\u001b[0m\n\u001b[0;32m----> 1\u001b[0;31m \u001b[0;32mwhile\u001b[0m \u001b[0;32mTrue\u001b[0m\u001b[0;34m:\u001b[0m\u001b[0;32mpass\u001b[0m\u001b[0;34m\u001b[0m\u001b[0;34m\u001b[0m\u001b[0m\n\u001b[0m",
            "\u001b[0;31mKeyboardInterrupt\u001b[0m: "
          ]
        }
      ]
    }
  ]
}