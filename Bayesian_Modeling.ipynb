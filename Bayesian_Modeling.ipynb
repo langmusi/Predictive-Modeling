{
  "nbformat": 4,
  "nbformat_minor": 0,
  "metadata": {
    "colab": {
      "name": "Bayesian Modeling.ipynb",
      "provenance": [],
      "collapsed_sections": [],
      "toc_visible": true,
      "authorship_tag": "ABX9TyMA8/4I0ec+FKcA1W8nVwRm"
    },
    "kernelspec": {
      "name": "python3",
      "display_name": "Python 3"
    },
    "language_info": {
      "name": "python"
    }
  },
  "cells": [
    {
      "cell_type": "markdown",
      "metadata": {
        "id": "3XdX1nKXqVLc"
      },
      "source": [
        "## Probabilistic Programming and Bayesian Methods for Hackers\n",
        "\n",
        "https://github.com/CamDavidsonPilon/Probabilistic-Programming-and-Bayesian-Methods-for-Hackers/blob/master/Chapter1_Introduction/Ch1_Introduction_PyMC3.ipynb"
      ]
    },
    {
      "cell_type": "code",
      "metadata": {
        "id": "xK51zFERrBba"
      },
      "source": [
        "%matplotlib inline\n",
        "from IPython.core.pylabtools import figsize\n",
        "import numpy as np\n",
        "from matplotlib import pyplot as plt\n",
        "figsize(11, 9)"
      ],
      "execution_count": null,
      "outputs": []
    },
    {
      "cell_type": "code",
      "metadata": {
        "colab": {
          "base_uri": "https://localhost:8080/"
        },
        "id": "E32HWW-4rn9m",
        "outputId": "f36473cb-2307-4540-a7e0-53c1200abcd2"
      },
      "source": [
        "figsize(12.5, 3.5)\n",
        "count_data = np.loadtxt(\"/content/txtdata.csv\")\n",
        "count_data"
      ],
      "execution_count": null,
      "outputs": [
        {
          "output_type": "execute_result",
          "data": {
            "text/plain": [
              "array([13., 24.,  8., 24.,  7., 35., 14., 11., 15., 11., 22., 22., 11.,\n",
              "       57., 11., 19., 29.,  6., 19., 12., 22., 12., 18., 72., 32.,  9.,\n",
              "        7., 13., 19., 23., 27., 20.,  6., 17., 13., 10., 14.,  6., 16.,\n",
              "       15.,  7.,  2., 15., 15., 19., 70., 49.,  7., 53., 22., 21., 31.,\n",
              "       19., 11., 18., 20., 12., 35., 17., 23., 17.,  4.,  2., 31., 30.,\n",
              "       13., 27.,  0., 39., 37.,  5., 14., 13., 22.])"
            ]
          },
          "metadata": {
            "tags": []
          },
          "execution_count": 4
        }
      ]
    },
    {
      "cell_type": "code",
      "metadata": {
        "colab": {
          "base_uri": "https://localhost:8080/"
        },
        "id": "LLmVFjixr2Lm",
        "outputId": "2a6d845f-6526-4072-cb8b-9b93e1886971"
      },
      "source": [
        "n_count_data = len(count_data)\n",
        "print(n_count_data)\n",
        "print(np.arange(n_count_data))"
      ],
      "execution_count": null,
      "outputs": [
        {
          "output_type": "stream",
          "text": [
            "74\n",
            "[ 0  1  2  3  4  5  6  7  8  9 10 11 12 13 14 15 16 17 18 19 20 21 22 23\n",
            " 24 25 26 27 28 29 30 31 32 33 34 35 36 37 38 39 40 41 42 43 44 45 46 47\n",
            " 48 49 50 51 52 53 54 55 56 57 58 59 60 61 62 63 64 65 66 67 68 69 70 71\n",
            " 72 73]\n"
          ],
          "name": "stdout"
        }
      ]
    },
    {
      "cell_type": "code",
      "metadata": {
        "colab": {
          "base_uri": "https://localhost:8080/",
          "height": 268
        },
        "id": "Can9FFTXr7Xr",
        "outputId": "5059acc9-e4a5-4732-fb05-bd373e4b239e"
      },
      "source": [
        "plt.bar(np.arange(n_count_data), count_data, color=\"#348ABD\")\n",
        "plt.xlabel(\"Time (days)\")\n",
        "plt.ylabel(\"count of text-msgs received\")\n",
        "plt.title(\"Did the user's texting habits change over time?\")\n",
        "plt.xlim(0, n_count_data);"
      ],
      "execution_count": null,
      "outputs": [
        {
          "output_type": "display_data",
          "data": {
            "image/png": "[encoded data removed]",
            "text/plain": [
              "<Figure size 900x252 with 1 Axes>"
            ]
          },
          "metadata": {
            "tags": [],
            "needs_background": "light"
          }
        }
      ]
    },
    {
      "cell_type": "markdown",
      "metadata": {
        "id": "jjWBcJZqNbO7"
      },
      "source": [
        "Bayesian Linear Regression in Python: Using Machine Learning to Predict Student Grades \n",
        "\n",
        "https://github.com/WillKoehrsen/Data-Analysis/blob/master/bayesian_lr/Bayesian%20Linear%20Regression%20Project.ipynb"
      ]
    },
    {
      "cell_type": "markdown",
      "metadata": {
        "id": "myNbSqofPv5-"
      },
      "source": [
        "Gaussian Naive Bayes from pymc learn\n",
        "\n",
        "https://hub.gke2.mybinder.org/user/pymc-learn-pymc-learn-4gbx8s9d/notebooks/docs/notebooks/GaussianNaiveBayes.ipynb"
      ]
    },
    {
      "cell_type": "markdown",
      "metadata": {
        "id": "YpAXcbuuoxWk"
      },
      "source": [
        "## Statistical Rethinking with PyTorch and Pyro \n",
        "\n",
        "From the book I studied for Bayesian therom.\n",
        "\n",
        "The link to the website: https://fehiepsi.github.io/rethinking-pyro/"
      ]
    },
    {
      "cell_type": "code",
      "metadata": {
        "colab": {
          "base_uri": "https://localhost:8080/"
        },
        "id": "yK2QtmFmpoHe",
        "outputId": "d4f46c80-79bc-4df2-f787-4d654aa7643f"
      },
      "source": [
        "!pip install pyro-ppl torch"
      ],
      "execution_count": null,
      "outputs": [
        {
          "output_type": "stream",
          "text": [
            "Collecting pyro-ppl\n",
            "\u001b[?25l  Downloading https://files.pythonhosted.org/packages/aa/7a/fbab572fd385154a0c07b0fa138683aa52e14603bb83d37b198e5f9269b1/pyro_ppl-1.6.0-py3-none-any.whl (634kB)\n",
            "\r\u001b[K     |▌                               | 10kB 16.7MB/s eta 0:00:01\r\u001b[K     |█                               | 20kB 20.5MB/s eta 0:00:01\r\u001b[K     |█▌                              | 30kB 25.0MB/s eta 0:00:01\r\u001b[K     |██                              | 40kB 25.3MB/s eta 0:00:01\r\u001b[K     |██▋                             | 51kB 22.9MB/s eta 0:00:01\r\u001b[K     |███                             | 61kB 17.6MB/s eta 0:00:01\r\u001b[K     |███▋                            | 71kB 18.4MB/s eta 0:00:01\r\u001b[K     |████▏                           | 81kB 16.1MB/s eta 0:00:01\r\u001b[K     |████▋                           | 92kB 15.3MB/s eta 0:00:01\r\u001b[K     |█████▏                          | 102kB 16.3MB/s eta 0:00:01\r\u001b[K     |█████▊                          | 112kB 16.3MB/s eta 0:00:01\r\u001b[K     |██████▏                         | 122kB 16.3MB/s eta 0:00:01\r\u001b[K     |██████▊                         | 133kB 16.3MB/s eta 0:00:01\r\u001b[K     |███████▎                        | 143kB 16.3MB/s eta 0:00:01\r\u001b[K     |███████▊                        | 153kB 16.3MB/s eta 0:00:01\r\u001b[K     |████████▎                       | 163kB 16.3MB/s eta 0:00:01\r\u001b[K     |████████▉                       | 174kB 16.3MB/s eta 0:00:01\r\u001b[K     |█████████▎                      | 184kB 16.3MB/s eta 0:00:01\r\u001b[K     |█████████▉                      | 194kB 16.3MB/s eta 0:00:01\r\u001b[K     |██████████▎                     | 204kB 16.3MB/s eta 0:00:01\r\u001b[K     |██████████▉                     | 215kB 16.3MB/s eta 0:00:01\r\u001b[K     |███████████▍                    | 225kB 16.3MB/s eta 0:00:01\r\u001b[K     |███████████▉                    | 235kB 16.3MB/s eta 0:00:01\r\u001b[K     |████████████▍                   | 245kB 16.3MB/s eta 0:00:01\r\u001b[K     |█████████████                   | 256kB 16.3MB/s eta 0:00:01\r\u001b[K     |█████████████▍                  | 266kB 16.3MB/s eta 0:00:01\r\u001b[K     |██████████████                  | 276kB 16.3MB/s eta 0:00:01\r\u001b[K     |██████████████▌                 | 286kB 16.3MB/s eta 0:00:01\r\u001b[K     |███████████████                 | 296kB 16.3MB/s eta 0:00:01\r\u001b[K     |███████████████▌                | 307kB 16.3MB/s eta 0:00:01\r\u001b[K     |████████████████                | 317kB 16.3MB/s eta 0:00:01\r\u001b[K     |████████████████▌               | 327kB 16.3MB/s eta 0:00:01\r\u001b[K     |█████████████████               | 337kB 16.3MB/s eta 0:00:01\r\u001b[K     |█████████████████▋              | 348kB 16.3MB/s eta 0:00:01\r\u001b[K     |██████████████████              | 358kB 16.3MB/s eta 0:00:01\r\u001b[K     |██████████████████▋             | 368kB 16.3MB/s eta 0:00:01\r\u001b[K     |███████████████████             | 378kB 16.3MB/s eta 0:00:01\r\u001b[K     |███████████████████▋            | 389kB 16.3MB/s eta 0:00:01\r\u001b[K     |████████████████████▏           | 399kB 16.3MB/s eta 0:00:01\r\u001b[K     |████████████████████▋           | 409kB 16.3MB/s eta 0:00:01\r\u001b[K     |█████████████████████▏          | 419kB 16.3MB/s eta 0:00:01\r\u001b[K     |█████████████████████▊          | 430kB 16.3MB/s eta 0:00:01\r\u001b[K     |██████████████████████▏         | 440kB 16.3MB/s eta 0:00:01\r\u001b[K     |██████████████████████▊         | 450kB 16.3MB/s eta 0:00:01\r\u001b[K     |███████████████████████▎        | 460kB 16.3MB/s eta 0:00:01\r\u001b[K     |███████████████████████▊        | 471kB 16.3MB/s eta 0:00:01\r\u001b[K     |████████████████████████▎       | 481kB 16.3MB/s eta 0:00:01\r\u001b[K     |████████████████████████▉       | 491kB 16.3MB/s eta 0:00:01\r\u001b[K     |█████████████████████████▎      | 501kB 16.3MB/s eta 0:00:01\r\u001b[K     |█████████████████████████▉      | 512kB 16.3MB/s eta 0:00:01\r\u001b[K     |██████████████████████████▍     | 522kB 16.3MB/s eta 0:00:01\r\u001b[K     |██████████████████████████▉     | 532kB 16.3MB/s eta 0:00:01\r\u001b[K     |███████████████████████████▍    | 542kB 16.3MB/s eta 0:00:01\r\u001b[K     |███████████████████████████▉    | 552kB 16.3MB/s eta 0:00:01\r\u001b[K     |████████████████████████████▍   | 563kB 16.3MB/s eta 0:00:01\r\u001b[K     |█████████████████████████████   | 573kB 16.3MB/s eta 0:00:01\r\u001b[K     |█████████████████████████████▍  | 583kB 16.3MB/s eta 0:00:01\r\u001b[K     |██████████████████████████████  | 593kB 16.3MB/s eta 0:00:01\r\u001b[K     |██████████████████████████████▌ | 604kB 16.3MB/s eta 0:00:01\r\u001b[K     |███████████████████████████████ | 614kB 16.3MB/s eta 0:00:01\r\u001b[K     |███████████████████████████████▌| 624kB 16.3MB/s eta 0:00:01\r\u001b[K     |████████████████████████████████| 634kB 16.3MB/s \n",
            "\u001b[?25hRequirement already satisfied: torch in /usr/local/lib/python3.7/dist-packages (1.8.1+cu101)\n",
            "Requirement already satisfied: numpy>=1.7 in /usr/local/lib/python3.7/dist-packages (from pyro-ppl) (1.19.5)\n",
            "Requirement already satisfied: tqdm>=4.36 in /usr/local/lib/python3.7/dist-packages (from pyro-ppl) (4.41.1)\n",
            "Collecting pyro-api>=0.1.1\n",
            "  Downloading https://files.pythonhosted.org/packages/fc/81/957ae78e6398460a7230b0eb9b8f1cb954c5e913e868e48d89324c68cec7/pyro_api-0.1.2-py3-none-any.whl\n",
            "Requirement already satisfied: opt-einsum>=2.3.2 in /usr/local/lib/python3.7/dist-packages (from pyro-ppl) (3.3.0)\n",
            "Requirement already satisfied: typing-extensions in /usr/local/lib/python3.7/dist-packages (from torch) (3.7.4.3)\n",
            "Installing collected packages: pyro-api, pyro-ppl\n",
            "Successfully installed pyro-api-0.1.2 pyro-ppl-1.6.0\n"
          ],
          "name": "stdout"
        }
      ]
    },
    {
      "cell_type": "markdown",
      "metadata": {
        "id": "pbCL_Sl4pHPq"
      },
      "source": [
        "### Preface"
      ]
    },
    {
      "cell_type": "code",
      "metadata": {
        "colab": {
          "base_uri": "https://localhost:8080/",
          "height": 334
        },
        "id": "CNF3cGwTpLPW",
        "outputId": "00cdf5a8-2804-463a-ddba-09870c93e7f1"
      },
      "source": [
        "import pandas as pd\n",
        "import seaborn as sns\n",
        "import torch\n",
        "\n",
        "import pyro\n",
        "import pyro.distributions as dist\n",
        "\n",
        "from rethinking import LM, coef"
      ],
      "execution_count": null,
      "outputs": [
        {
          "output_type": "error",
          "ename": "ModuleNotFoundError",
          "evalue": "ignored",
          "traceback": [
            "\u001b[0;31m---------------------------------------------------------------------------\u001b[0m",
            "\u001b[0;31mModuleNotFoundError\u001b[0m                       Traceback (most recent call last)",
            "\u001b[0;32m<ipython-input-7-fd6214bb8607>\u001b[0m in \u001b[0;36m<module>\u001b[0;34m()\u001b[0m\n\u001b[1;32m      6\u001b[0m \u001b[0;32mimport\u001b[0m \u001b[0mpyro\u001b[0m\u001b[0;34m.\u001b[0m\u001b[0mdistributions\u001b[0m \u001b[0;32mas\u001b[0m \u001b[0mdist\u001b[0m\u001b[0;34m\u001b[0m\u001b[0;34m\u001b[0m\u001b[0m\n\u001b[1;32m      7\u001b[0m \u001b[0;34m\u001b[0m\u001b[0m\n\u001b[0;32m----> 8\u001b[0;31m \u001b[0;32mfrom\u001b[0m \u001b[0mrethinking\u001b[0m \u001b[0;32mimport\u001b[0m \u001b[0mLM\u001b[0m\u001b[0;34m,\u001b[0m \u001b[0mcoef\u001b[0m\u001b[0;34m\u001b[0m\u001b[0;34m\u001b[0m\u001b[0m\n\u001b[0m",
            "\u001b[0;31mModuleNotFoundError\u001b[0m: No module named 'rethinking'",
            "",
            "\u001b[0;31m---------------------------------------------------------------------------\u001b[0;32m\nNOTE: If your import is failing due to a missing package, you can\nmanually install dependencies using either !pip or !apt.\n\nTo view examples of installing some common dependencies, click the\n\"Open Examples\" button below.\n\u001b[0;31m---------------------------------------------------------------------------\u001b[0m\n"
          ]
        }
      ]
    },
    {
      "cell_type": "code",
      "metadata": {
        "colab": {
          "base_uri": "https://localhost:8080/"
        },
        "id": "i0XMhJ_xtbDi",
        "outputId": "7265bbf0-18fe-4168-c432-0bd49c795d75"
      },
      "source": [
        "from google.colab import drive\n",
        "drive.mount('/content/gdrive/')\n",
        "\n",
        "import sys\n",
        "sys.path.append('/content/gdrive/')\n"
      ],
      "execution_count": null,
      "outputs": [
        {
          "output_type": "stream",
          "text": [
            "Drive already mounted at /content/gdrive/; to attempt to forcibly remount, call drive.mount(\"/content/gdrive/\", force_remount=True).\n"
          ],
          "name": "stdout"
        }
      ]
    },
    {
      "cell_type": "code",
      "metadata": {
        "colab": {
          "base_uri": "https://localhost:8080/"
        },
        "id": "2borvtX4n2YS",
        "outputId": "97b9dfda-ce85-445d-bb13-251917a687b7"
      },
      "source": [
        "!pip install torch"
      ],
      "execution_count": null,
      "outputs": [
        {
          "output_type": "stream",
          "text": [
            "Requirement already satisfied: torch in /usr/local/lib/python3.7/dist-packages (1.8.1+cu101)\n",
            "Requirement already satisfied: typing-extensions in /usr/local/lib/python3.7/dist-packages (from torch) (3.7.4.3)\n",
            "Requirement already satisfied: numpy in /usr/local/lib/python3.7/dist-packages (from torch) (1.19.5)\n"
          ],
          "name": "stdout"
        }
      ]
    },
    {
      "cell_type": "code",
      "metadata": {
        "id": "iTgenmjwn7Br"
      },
      "source": [
        "import torch"
      ],
      "execution_count": null,
      "outputs": []
    },
    {
      "cell_type": "code",
      "metadata": {
        "colab": {
          "base_uri": "https://localhost:8080/"
        },
        "id": "zzjTI4-jNYqi",
        "outputId": "96f61f6f-a8d6-45ff-8227-ff2bcf854d8f"
      },
      "source": [
        "data = [[1, 2],[3, 4]]\n",
        "print(data)\n",
        "x_data = torch.tensor(data)\n",
        "x_data"
      ],
      "execution_count": null,
      "outputs": [
        {
          "output_type": "stream",
          "text": [
            "[[1, 2], [3, 4]]\n"
          ],
          "name": "stdout"
        },
        {
          "output_type": "execute_result",
          "data": {
            "text/plain": [
              "tensor([[1, 2],\n",
              "        [3, 4]])"
            ]
          },
          "metadata": {
            "tags": []
          },
          "execution_count": 5
        }
      ]
    }
  ]
}